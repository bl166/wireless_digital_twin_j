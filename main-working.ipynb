{
 "cells": [
  {
   "cell_type": "markdown",
   "metadata": {},
   "source": [
    "# imports"
   ]
  },
  {
   "cell_type": "code",
   "execution_count": 1,
   "metadata": {},
   "outputs": [
    {
     "name": "stderr",
     "output_type": "stream",
     "text": [
      "2022-12-27 15:38:08.667677: I tensorflow/core/platform/cpu_feature_guard.cc:193] This TensorFlow binary is optimized with oneAPI Deep Neural Network Library (oneDNN) to use the following CPU instructions in performance-critical operations:  AVX2 AVX512F AVX512_VNNI FMA\n",
      "To enable them in other operations, rebuild TensorFlow with the appropriate compiler flags.\n",
      "2022-12-27 15:38:08.772498: I tensorflow/core/util/port.cc:104] oneDNN custom operations are on. You may see slightly different numerical results due to floating-point round-off errors from different computation orders. To turn them off, set the environment variable `TF_ENABLE_ONEDNN_OPTS=0`.\n",
      "2022-12-27 15:38:09.967824: I tensorflow/core/platform/cpu_feature_guard.cc:193] This TensorFlow binary is optimized with oneAPI Deep Neural Network Library (oneDNN) to use the following CPU instructions in performance-critical operations:  AVX2 AVX512F AVX512_VNNI FMA\n",
      "To enable them in other operations, rebuild TensorFlow with the appropriate compiler flags.\n",
      "2022-12-27 15:38:11.006208: I tensorflow/core/common_runtime/gpu/gpu_device.cc:1613] Created device /device:GPU:0 with 327 MB memory:  -> device: 0, name: NVIDIA GeForce RTX 2080 Ti, pci bus id: 0000:17:00.0, compute capability: 7.5\n",
      "2022-12-27 15:38:11.006911: I tensorflow/core/common_runtime/gpu/gpu_device.cc:1613] Created device /device:GPU:1 with 9634 MB memory:  -> device: 1, name: NVIDIA GeForce RTX 2080 Ti, pci bus id: 0000:65:00.0, compute capability: 7.5\n"
     ]
    },
    {
     "name": "stdout",
     "output_type": "stream",
     "text": [
      "/device:GPU:0\n"
     ]
    }
   ],
   "source": [
    "%load_ext autoreload\n",
    "%autoreload 2\n",
    "\n",
    "import numpy as np\n",
    "import pandas as pd\n",
    "import matplotlib.pyplot as plt\n",
    "\n",
    "import glob\n",
    "import re\n",
    "import os\n",
    "# os.environ[\"CUDA_VISIBLE_DEVICES\"] = \"-1\"\n",
    "# import sys\n",
    "# sys.path.append('/root/digital-twin/wireless_digital_twin/')\n",
    "\n",
    "import tensorflow as tf\n",
    "print(tf.test.gpu_device_name())\n",
    "\n",
    "\n",
    "import utils.utilfunc as uf\n",
    "from utils.models import PlanNet, RouteNet\n",
    "from utils.datagen_old import PlanDataGen, get_output_format\n",
    "import utils.datagen as dg"
   ]
  },
  {
   "cell_type": "markdown",
   "metadata": {},
   "source": [
    "# Config Files and Data Loaders"
   ]
  },
  {
   "cell_type": "code",
   "execution_count": 23,
   "metadata": {},
   "outputs": [
    {
     "name": "stderr",
     "output_type": "stream",
     "text": [
      "<class 'networkx.utils.decorators.argmap'> compilation 9:4: FutureWarning: laplacian_matrix will return a scipy.sparse array instead of a matrix in Networkx 3.0.\n",
      "/root/digital-twin/wireless_digital_twin/utils/datagen.py:238: FutureWarning: adjacency_matrix will return a scipy.sparse array instead of a matrix in Networkx 3.0.\n",
      "  adjacency = nx.adjacency_matrix(self.graph_topology_undirected)\n"
     ]
    },
    {
     "data": {
      "text/plain": [
       "{'Paths': {'data': ['./dataset/NSFNet_routing_1'],\n",
       "  'graph': ['./dataset/nsfnet.txt'],\n",
       "  'logs': ['./output/logs/'],\n",
       "  'routing': ['paths1'],\n",
       "  'trainon': ['delay']},\n",
       " 'GNN': {'T': 2,\n",
       "  'link_state_dim': 16,\n",
       "  'path_state_dim': 32,\n",
       "  'node_state_dim': 16,\n",
       "  'readoutLayerSizes': [16, 32, 16],\n",
       "  'edgeMLPLayerSizes': [8, 16, 32, 16, 8]},\n",
       " 'LearningParams': {'epochs': 50,\n",
       "  'learning_rate': 0.0001,\n",
       "  'lr_decay_steps': 10000,\n",
       "  'lr_decay_rate': 0.95,\n",
       "  'batch_size': 32,\n",
       "  'dropout_rate': 0.1,\n",
       "  'l2': 0.1,\n",
       "  'l2_2': 0.01,\n",
       "  'learn_embedding': True}}"
      ]
     },
     "execution_count": 23,
     "metadata": {},
     "output_type": "execute_result"
    }
   ],
   "source": [
    "# abidata = '/root/digital-twin/digi_twin_summer_wireless_dataset-e3cce9c3860f1c1f3de8a0dcb5c744bb16ee4f34/data_split_clean'\n",
    "# abidata2 = '/root/digital-twin/digi_twin_summer_wireless_dataset-e3cce9c3860f1c1f3de8a0dcb5c744bb16ee4f34/dataset-2'\n",
    "\n",
    "config  = uf.PathConfigParser('./configs/config.ini').as_dict()\n",
    "hparams = dict(**config['GNN'], **config['LearningParams'])\n",
    "\n",
    "datagens, datasets = dg.get_data_gens_sets(config)\n",
    "config"
   ]
  },
  {
   "cell_type": "markdown",
   "metadata": {},
   "source": [
    "# Models"
   ]
  },
  {
   "cell_type": "code",
   "execution_count": 26,
   "metadata": {},
   "outputs": [
    {
     "name": "stdout",
     "output_type": "stream",
     "text": [
      "./output/logs/PlanNet/delay\n"
     ]
    },
    {
     "data": {
      "text/plain": [
       "<tf.Tensor: shape=(10, 1), dtype=float32, numpy=\n",
       "array([[-0.10836446],\n",
       "       [-2.138773  ],\n",
       "       [-0.04731093],\n",
       "       [-0.02156108],\n",
       "       [-2.025528  ],\n",
       "       [-0.27536878],\n",
       "       [-0.0467858 ],\n",
       "       [-0.45767486],\n",
       "       [-2.0237615 ],\n",
       "       [-0.03079614]], dtype=float32)>"
      ]
     },
     "execution_count": 26,
     "metadata": {},
     "output_type": "execute_result"
    }
   ],
   "source": [
    "\n",
    "model = PlanNet(hparams, train_on=config['Paths']['trainon'])\n",
    "# model = RouteNet(hparams, train_on = 'delay')\n",
    "mclass = re.findall('\\'.+\\..+\\.(.+)\\'', str(model.__class__))[0] #<class 'utils.models.PlanNet'>\n",
    "\n",
    "model.build()\n",
    "opt = tf.keras.optimizers.Adam(learning_rate=hparams['learning_rate'], weight_decay=1e-4)\n",
    "model.compile(optimizer=\"adam\",#opt, \n",
    "              run_eagerly=False)\n",
    "\n",
    "# save model\n",
    "checkpoint_dir = os.path.join(config['Paths']['logs'][0], mclass, model.train_on)\n",
    "print(checkpoint_dir)\n",
    "os.makedirs(checkpoint_dir, exist_ok = True)\n",
    "checkpoint_path = os.path.join(checkpoint_dir, \"cp.ckpt\")\n",
    "csvlog_path = os.path.join(checkpoint_dir, \"training.log\")\n",
    "\n",
    "# Create a callback that saves the model's weights\n",
    "cp_early_stop = tf.keras.callbacks.EarlyStopping(\n",
    "    monitor='val_loss', min_delta=0, patience=10, verbose=0, \n",
    "    mode='auto', baseline=None, restore_best_weights=True)\n",
    "cp_checkpoint = tf.keras.callbacks.ModelCheckpoint(\n",
    "    filepath=checkpoint_path, save_weights_only=True, verbose=1)\n",
    "cp_csv0 = tf.keras.callbacks.CSVLogger(\n",
    "    csvlog_path, separator=',', append=True)\n",
    "\n",
    "\n",
    "model(datagens['train'].__getitem__(0)[0])\n"
   ]
  },
  {
   "cell_type": "code",
   "execution_count": 6,
   "metadata": {
    "scrolled": false
   },
   "outputs": [
    {
     "name": "stdout",
     "output_type": "stream",
     "text": [
      "Epoch 1/20\n",
      "<class 'dict'> <class 'dict'>\n",
      "train_step | pred: Tensor(\"Any:0\", shape=(), dtype=bool) (None, 1)\n",
      "train_step | loss: Tensor(\"Any_1:0\", shape=(), dtype=bool) Tensor(\"Mean_1:0\", shape=(), dtype=float32)\n",
      "<class 'dict'> <class 'dict'>\n",
      "train_step | pred: Tensor(\"Any:0\", shape=(), dtype=bool) (None, 1)\n",
      "train_step | loss: Tensor(\"Any_1:0\", shape=(), dtype=bool) Tensor(\"Mean_1:0\", shape=(), dtype=float32)\n"
     ]
    },
    {
     "name": "stderr",
     "output_type": "stream",
     "text": [
      "<class 'networkx.utils.decorators.argmap'> compilation 9:4: FutureWarning: laplacian_matrix will return a scipy.sparse array instead of a matrix in Networkx 3.0.\n",
      "/root/digital-twin/wireless_digital_twin/utils/datagen.py:238: FutureWarning: adjacency_matrix will return a scipy.sparse array instead of a matrix in Networkx 3.0.\n",
      "  adjacency = nx.adjacency_matrix(self.graph_topology_undirected)\n",
      "2022-12-27 15:39:03.950286: I tensorflow/compiler/xla/service/service.cc:173] XLA service 0x411688d0 initialized for platform CUDA (this does not guarantee that XLA will be used). Devices:\n",
      "2022-12-27 15:39:03.950351: I tensorflow/compiler/xla/service/service.cc:181]   StreamExecutor device (0): NVIDIA GeForce RTX 2080 Ti, Compute Capability 7.5\n",
      "2022-12-27 15:39:03.950367: I tensorflow/compiler/xla/service/service.cc:181]   StreamExecutor device (1): NVIDIA GeForce RTX 2080 Ti, Compute Capability 7.5\n",
      "2022-12-27 15:39:03.960967: I tensorflow/compiler/mlir/tensorflow/utils/dump_mlir_util.cc:268] disabling MLIR crash reproducer, set env var `MLIR_CRASH_REPRODUCER_DIRECTORY` to enable.\n",
      "2022-12-27 15:39:04.085327: I tensorflow/compiler/jit/xla_compilation_cache.cc:477] Compiled cluster using XLA!  This line is logged at most once for the lifetime of the process.\n"
     ]
    },
    {
     "name": "stdout",
     "output_type": "stream",
     "text": [
      "692/693 [============================>.] - ETA: 0s - loss: 68056.7045 - label/mean/delay: 432.4608 - prediction/mean/delay: 352.0100{'n_paths': <tf.Tensor 'IteratorGetNext:7' shape=() dtype=int32>, 'n_links': <tf.Tensor 'IteratorGetNext:5' shape=() dtype=int32>, 'n_nodes': <tf.Tensor 'IteratorGetNext:6' shape=() dtype=int32>, 'n_total': <tf.Tensor 'IteratorGetNext:8' shape=() dtype=int32>, 'paths_to_links': <tf.Tensor 'IteratorGetNext:13' shape=(None,) dtype=int32>, 'links_to_paths': <tf.Tensor 'IteratorGetNext:4' shape=(None,) dtype=int32>, 'sequences_paths_links': <tf.Tensor 'IteratorGetNext:17' shape=(None,) dtype=int32>, 'links_to_nodes': <tf.Tensor 'IteratorGetNext:3' shape=(None,) dtype=int32>, 'nodes_to_links': <tf.Tensor 'IteratorGetNext:10' shape=(None,) dtype=int32>, 'sequences_links_nodes': <tf.Tensor 'IteratorGetNext:15' shape=(None,) dtype=int32>, 'paths_to_nodes': <tf.Tensor 'IteratorGetNext:14' shape=(None,) dtype=int32>, 'nodes_to_paths': <tf.Tensor 'IteratorGetNext:11' shape=(None,) dtype=int32>, 'sequences_nodes_paths': <tf.Tensor 'IteratorGetNext:16' shape=(None,) dtype=int32>, 'laplacian_matrix': <tf.Tensor 'IteratorGetNext:1' shape=(None, None) dtype=float32>, 'adjacency_matrix': <tf.Tensor 'IteratorGetNext:0' shape=(None, None) dtype=float32>, 'node_init': <tf.Tensor 'IteratorGetNext:9' shape=(None,) dtype=float32>, 'path_init': <tf.Tensor 'IteratorGetNext:12' shape=(None, None) dtype=float32>, 'link_init': <tf.Tensor 'IteratorGetNext:2' shape=(None,) dtype=float32>}\n"
     ]
    },
    {
     "name": "stderr",
     "output_type": "stream",
     "text": [
      "<class 'networkx.utils.decorators.argmap'> compilation 9:4: FutureWarning: laplacian_matrix will return a scipy.sparse array instead of a matrix in Networkx 3.0.\n",
      "/root/digital-twin/wireless_digital_twin/utils/datagen.py:238: FutureWarning: adjacency_matrix will return a scipy.sparse array instead of a matrix in Networkx 3.0.\n",
      "  adjacency = nx.adjacency_matrix(self.graph_topology_undirected)\n"
     ]
    },
    {
     "name": "stdout",
     "output_type": "stream",
     "text": [
      "\n",
      "Epoch 1: saving model to ./output/logs/PlanNet/delay/cp.ckpt\n",
      "693/693 [==============================] - 28s 31ms/step - loss: 67939.8423 - label/mean/delay: 432.4768 - prediction/mean/delay: 352.3348 - val_loss: 8641.9629 - val_label/mean/delay: 389.4000 - val_prediction/mean/delay: 430.8033\n",
      "Epoch 2/20\n",
      "692/693 [============================>.] - ETA: 0s - loss: 23290.6968 - label/mean/delay: 431.4685 - prediction/mean/delay: 419.6141"
     ]
    },
    {
     "name": "stderr",
     "output_type": "stream",
     "text": [
      "<class 'networkx.utils.decorators.argmap'> compilation 9:4: FutureWarning: laplacian_matrix will return a scipy.sparse array instead of a matrix in Networkx 3.0.\n",
      "/root/digital-twin/wireless_digital_twin/utils/datagen.py:238: FutureWarning: adjacency_matrix will return a scipy.sparse array instead of a matrix in Networkx 3.0.\n",
      "  adjacency = nx.adjacency_matrix(self.graph_topology_undirected)\n"
     ]
    },
    {
     "name": "stdout",
     "output_type": "stream",
     "text": [
      "\n",
      "Epoch 2: saving model to ./output/logs/PlanNet/delay/cp.ckpt\n",
      "693/693 [==============================] - 21s 30ms/step - loss: 23273.8088 - label/mean/delay: 431.3156 - prediction/mean/delay: 419.6212 - val_loss: 8281.2090 - val_label/mean/delay: 389.4000 - val_prediction/mean/delay: 412.1395\n",
      "Epoch 3/20\n",
      "692/693 [============================>.] - ETA: 0s - loss: 29814.7161 - label/mean/delay: 433.3163 - prediction/mean/delay: 422.8955"
     ]
    },
    {
     "name": "stderr",
     "output_type": "stream",
     "text": [
      "<class 'networkx.utils.decorators.argmap'> compilation 9:4: FutureWarning: laplacian_matrix will return a scipy.sparse array instead of a matrix in Networkx 3.0.\n",
      "/root/digital-twin/wireless_digital_twin/utils/datagen.py:238: FutureWarning: adjacency_matrix will return a scipy.sparse array instead of a matrix in Networkx 3.0.\n",
      "  adjacency = nx.adjacency_matrix(self.graph_topology_undirected)\n"
     ]
    },
    {
     "name": "stdout",
     "output_type": "stream",
     "text": [
      "\n",
      "Epoch 3: saving model to ./output/logs/PlanNet/delay/cp.ckpt\n",
      "693/693 [==============================] - 21s 31ms/step - loss: 29778.1357 - label/mean/delay: 433.3304 - prediction/mean/delay: 422.8394 - val_loss: 7350.9795 - val_label/mean/delay: 389.4000 - val_prediction/mean/delay: 421.1734\n",
      "Epoch 4/20\n",
      "693/693 [==============================] - ETA: 0s - loss: 22562.0569 - label/mean/delay: 431.9022 - prediction/mean/delay: 421.9418"
     ]
    },
    {
     "name": "stderr",
     "output_type": "stream",
     "text": [
      "<class 'networkx.utils.decorators.argmap'> compilation 9:4: FutureWarning: laplacian_matrix will return a scipy.sparse array instead of a matrix in Networkx 3.0.\n",
      "/root/digital-twin/wireless_digital_twin/utils/datagen.py:238: FutureWarning: adjacency_matrix will return a scipy.sparse array instead of a matrix in Networkx 3.0.\n",
      "  adjacency = nx.adjacency_matrix(self.graph_topology_undirected)\n"
     ]
    },
    {
     "name": "stdout",
     "output_type": "stream",
     "text": [
      "\n",
      "Epoch 4: saving model to ./output/logs/PlanNet/delay/cp.ckpt\n",
      "693/693 [==============================] - 21s 31ms/step - loss: 22556.8770 - label/mean/delay: 432.0004 - prediction/mean/delay: 422.0063 - val_loss: 7732.1455 - val_label/mean/delay: 389.4000 - val_prediction/mean/delay: 436.4604\n",
      "Epoch 5/20\n",
      "692/693 [============================>.] - ETA: 0s - loss: 19521.4022 - label/mean/delay: 431.5986 - prediction/mean/delay: 422.6647"
     ]
    },
    {
     "name": "stderr",
     "output_type": "stream",
     "text": [
      "<class 'networkx.utils.decorators.argmap'> compilation 9:4: FutureWarning: laplacian_matrix will return a scipy.sparse array instead of a matrix in Networkx 3.0.\n",
      "/root/digital-twin/wireless_digital_twin/utils/datagen.py:238: FutureWarning: adjacency_matrix will return a scipy.sparse array instead of a matrix in Networkx 3.0.\n",
      "  adjacency = nx.adjacency_matrix(self.graph_topology_undirected)\n"
     ]
    },
    {
     "name": "stdout",
     "output_type": "stream",
     "text": [
      "\n",
      "Epoch 5: saving model to ./output/logs/PlanNet/delay/cp.ckpt\n",
      "693/693 [==============================] - 21s 31ms/step - loss: 19623.5146 - label/mean/delay: 431.4156 - prediction/mean/delay: 422.6794 - val_loss: 5786.5322 - val_label/mean/delay: 389.4000 - val_prediction/mean/delay: 388.0984\n",
      "Epoch 6/20\n",
      "692/693 [============================>.] - ETA: 0s - loss: 19951.7344 - label/mean/delay: 432.0565 - prediction/mean/delay: 422.6731"
     ]
    },
    {
     "name": "stderr",
     "output_type": "stream",
     "text": [
      "<class 'networkx.utils.decorators.argmap'> compilation 9:4: FutureWarning: laplacian_matrix will return a scipy.sparse array instead of a matrix in Networkx 3.0.\n",
      "/root/digital-twin/wireless_digital_twin/utils/datagen.py:238: FutureWarning: adjacency_matrix will return a scipy.sparse array instead of a matrix in Networkx 3.0.\n",
      "  adjacency = nx.adjacency_matrix(self.graph_topology_undirected)\n"
     ]
    },
    {
     "name": "stdout",
     "output_type": "stream",
     "text": [
      "\n",
      "Epoch 6: saving model to ./output/logs/PlanNet/delay/cp.ckpt\n",
      "693/693 [==============================] - 21s 31ms/step - loss: 19932.4416 - label/mean/delay: 431.9163 - prediction/mean/delay: 422.6192 - val_loss: 7566.4390 - val_label/mean/delay: 389.4000 - val_prediction/mean/delay: 408.3356\n",
      "Epoch 7/20\n",
      "693/693 [==============================] - ETA: 0s - loss: 18881.9843 - label/mean/delay: 429.8179 - prediction/mean/delay: 420.4542"
     ]
    },
    {
     "name": "stderr",
     "output_type": "stream",
     "text": [
      "<class 'networkx.utils.decorators.argmap'> compilation 9:4: FutureWarning: laplacian_matrix will return a scipy.sparse array instead of a matrix in Networkx 3.0.\n",
      "/root/digital-twin/wireless_digital_twin/utils/datagen.py:238: FutureWarning: adjacency_matrix will return a scipy.sparse array instead of a matrix in Networkx 3.0.\n",
      "  adjacency = nx.adjacency_matrix(self.graph_topology_undirected)\n"
     ]
    },
    {
     "name": "stdout",
     "output_type": "stream",
     "text": [
      "\n",
      "Epoch 7: saving model to ./output/logs/PlanNet/delay/cp.ckpt\n",
      "693/693 [==============================] - 21s 31ms/step - loss: 18861.7535 - label/mean/delay: 429.8033 - prediction/mean/delay: 420.4474 - val_loss: 7799.5654 - val_label/mean/delay: 389.4000 - val_prediction/mean/delay: 396.0985\n",
      "Epoch 8/20\n",
      "692/693 [============================>.] - ETA: 0s - loss: 16644.4436 - label/mean/delay: 429.4488 - prediction/mean/delay: 421.5817"
     ]
    },
    {
     "name": "stderr",
     "output_type": "stream",
     "text": [
      "<class 'networkx.utils.decorators.argmap'> compilation 9:4: FutureWarning: laplacian_matrix will return a scipy.sparse array instead of a matrix in Networkx 3.0.\n",
      "/root/digital-twin/wireless_digital_twin/utils/datagen.py:238: FutureWarning: adjacency_matrix will return a scipy.sparse array instead of a matrix in Networkx 3.0.\n",
      "  adjacency = nx.adjacency_matrix(self.graph_topology_undirected)\n"
     ]
    },
    {
     "name": "stdout",
     "output_type": "stream",
     "text": [
      "\n",
      "Epoch 8: saving model to ./output/logs/PlanNet/delay/cp.ckpt\n",
      "693/693 [==============================] - 21s 31ms/step - loss: 16717.0215 - label/mean/delay: 429.7012 - prediction/mean/delay: 421.6012 - val_loss: 7576.5322 - val_label/mean/delay: 389.4000 - val_prediction/mean/delay: 389.8265\n",
      "Epoch 9/20\n",
      "692/693 [============================>.] - ETA: 0s - loss: 20061.3687 - label/mean/delay: 430.7569 - prediction/mean/delay: 422.5373"
     ]
    },
    {
     "name": "stderr",
     "output_type": "stream",
     "text": [
      "<class 'networkx.utils.decorators.argmap'> compilation 9:4: FutureWarning: laplacian_matrix will return a scipy.sparse array instead of a matrix in Networkx 3.0.\n",
      "/root/digital-twin/wireless_digital_twin/utils/datagen.py:238: FutureWarning: adjacency_matrix will return a scipy.sparse array instead of a matrix in Networkx 3.0.\n",
      "  adjacency = nx.adjacency_matrix(self.graph_topology_undirected)\n"
     ]
    },
    {
     "name": "stdout",
     "output_type": "stream",
     "text": [
      "\n",
      "Epoch 9: saving model to ./output/logs/PlanNet/delay/cp.ckpt\n",
      "693/693 [==============================] - 21s 31ms/step - loss: 20024.1109 - label/mean/delay: 430.8415 - prediction/mean/delay: 422.5852 - val_loss: 7415.1743 - val_label/mean/delay: 389.4000 - val_prediction/mean/delay: 415.7963\n",
      "Epoch 10/20\n",
      "692/693 [============================>.] - ETA: 0s - loss: 17578.4265 - label/mean/delay: 428.8741 - prediction/mean/delay: 421.3121"
     ]
    },
    {
     "name": "stderr",
     "output_type": "stream",
     "text": [
      "<class 'networkx.utils.decorators.argmap'> compilation 9:4: FutureWarning: laplacian_matrix will return a scipy.sparse array instead of a matrix in Networkx 3.0.\n",
      "/root/digital-twin/wireless_digital_twin/utils/datagen.py:238: FutureWarning: adjacency_matrix will return a scipy.sparse array instead of a matrix in Networkx 3.0.\n",
      "  adjacency = nx.adjacency_matrix(self.graph_topology_undirected)\n"
     ]
    },
    {
     "name": "stdout",
     "output_type": "stream",
     "text": [
      "\n",
      "Epoch 10: saving model to ./output/logs/PlanNet/delay/cp.ckpt\n",
      "693/693 [==============================] - 21s 31ms/step - loss: 17553.0200 - label/mean/delay: 428.7509 - prediction/mean/delay: 421.2633 - val_loss: 8588.7207 - val_label/mean/delay: 389.4000 - val_prediction/mean/delay: 412.8358\n",
      "Epoch 11/20\n",
      "692/693 [============================>.] - ETA: 0s - loss: 19041.7360 - label/mean/delay: 430.7039 - prediction/mean/delay: 423.0724"
     ]
    },
    {
     "name": "stderr",
     "output_type": "stream",
     "text": [
      "<class 'networkx.utils.decorators.argmap'> compilation 9:4: FutureWarning: laplacian_matrix will return a scipy.sparse array instead of a matrix in Networkx 3.0.\n",
      "/root/digital-twin/wireless_digital_twin/utils/datagen.py:238: FutureWarning: adjacency_matrix will return a scipy.sparse array instead of a matrix in Networkx 3.0.\n",
      "  adjacency = nx.adjacency_matrix(self.graph_topology_undirected)\n"
     ]
    },
    {
     "name": "stdout",
     "output_type": "stream",
     "text": [
      "\n",
      "Epoch 11: saving model to ./output/logs/PlanNet/delay/cp.ckpt\n",
      "693/693 [==============================] - 22s 31ms/step - loss: 19011.7776 - label/mean/delay: 430.5212 - prediction/mean/delay: 422.9414 - val_loss: 8287.6504 - val_label/mean/delay: 389.4000 - val_prediction/mean/delay: 390.1650\n",
      "Epoch 12/20\n",
      "692/693 [============================>.] - ETA: 0s - loss: 17077.9936 - label/mean/delay: 431.2902 - prediction/mean/delay: 422.8754"
     ]
    },
    {
     "name": "stderr",
     "output_type": "stream",
     "text": [
      "<class 'networkx.utils.decorators.argmap'> compilation 9:4: FutureWarning: laplacian_matrix will return a scipy.sparse array instead of a matrix in Networkx 3.0.\n",
      "/root/digital-twin/wireless_digital_twin/utils/datagen.py:238: FutureWarning: adjacency_matrix will return a scipy.sparse array instead of a matrix in Networkx 3.0.\n",
      "  adjacency = nx.adjacency_matrix(self.graph_topology_undirected)\n"
     ]
    },
    {
     "name": "stdout",
     "output_type": "stream",
     "text": [
      "\n",
      "Epoch 12: saving model to ./output/logs/PlanNet/delay/cp.ckpt\n",
      "693/693 [==============================] - 21s 31ms/step - loss: 17061.0291 - label/mean/delay: 431.3124 - prediction/mean/delay: 422.9232 - val_loss: 9938.9189 - val_label/mean/delay: 389.4000 - val_prediction/mean/delay: 435.2949\n",
      "Epoch 13/20\n",
      "692/693 [============================>.] - ETA: 0s - loss: 17995.6434 - label/mean/delay: 431.8662 - prediction/mean/delay: 424.7903"
     ]
    },
    {
     "name": "stderr",
     "output_type": "stream",
     "text": [
      "<class 'networkx.utils.decorators.argmap'> compilation 9:4: FutureWarning: laplacian_matrix will return a scipy.sparse array instead of a matrix in Networkx 3.0.\n",
      "/root/digital-twin/wireless_digital_twin/utils/datagen.py:238: FutureWarning: adjacency_matrix will return a scipy.sparse array instead of a matrix in Networkx 3.0.\n",
      "  adjacency = nx.adjacency_matrix(self.graph_topology_undirected)\n"
     ]
    },
    {
     "name": "stdout",
     "output_type": "stream",
     "text": [
      "\n",
      "Epoch 13: saving model to ./output/logs/PlanNet/delay/cp.ckpt\n",
      "693/693 [==============================] - 21s 31ms/step - loss: 18010.8483 - label/mean/delay: 431.9651 - prediction/mean/delay: 424.7952 - val_loss: 10750.9375 - val_label/mean/delay: 389.4000 - val_prediction/mean/delay: 428.7121\n",
      "Epoch 14/20\n",
      "693/693 [==============================] - ETA: 0s - loss: 21862.6949 - label/mean/delay: 433.3003 - prediction/mean/delay: 425.9093"
     ]
    },
    {
     "name": "stderr",
     "output_type": "stream",
     "text": [
      "<class 'networkx.utils.decorators.argmap'> compilation 9:4: FutureWarning: laplacian_matrix will return a scipy.sparse array instead of a matrix in Networkx 3.0.\n",
      "/root/digital-twin/wireless_digital_twin/utils/datagen.py:238: FutureWarning: adjacency_matrix will return a scipy.sparse array instead of a matrix in Networkx 3.0.\n",
      "  adjacency = nx.adjacency_matrix(self.graph_topology_undirected)\n"
     ]
    },
    {
     "name": "stdout",
     "output_type": "stream",
     "text": [
      "\n",
      "Epoch 14: saving model to ./output/logs/PlanNet/delay/cp.ckpt\n",
      "693/693 [==============================] - 21s 31ms/step - loss: 21872.7710 - label/mean/delay: 433.3950 - prediction/mean/delay: 425.8508 - val_loss: 8831.1328 - val_label/mean/delay: 389.4000 - val_prediction/mean/delay: 424.1789\n",
      "Epoch 15/20\n",
      "693/693 [==============================] - ETA: 0s - loss: 18731.2991 - label/mean/delay: 432.1453 - prediction/mean/delay: 424.6152"
     ]
    },
    {
     "name": "stderr",
     "output_type": "stream",
     "text": [
      "<class 'networkx.utils.decorators.argmap'> compilation 9:4: FutureWarning: laplacian_matrix will return a scipy.sparse array instead of a matrix in Networkx 3.0.\n",
      "/root/digital-twin/wireless_digital_twin/utils/datagen.py:238: FutureWarning: adjacency_matrix will return a scipy.sparse array instead of a matrix in Networkx 3.0.\n",
      "  adjacency = nx.adjacency_matrix(self.graph_topology_undirected)\n"
     ]
    },
    {
     "name": "stdout",
     "output_type": "stream",
     "text": [
      "\n",
      "Epoch 15: saving model to ./output/logs/PlanNet/delay/cp.ckpt\n",
      "693/693 [==============================] - 21s 31ms/step - loss: 18729.5125 - label/mean/delay: 432.1768 - prediction/mean/delay: 424.6218 - val_loss: 7750.8857 - val_label/mean/delay: 389.4000 - val_prediction/mean/delay: 409.3198\n"
     ]
    },
    {
     "data": {
      "text/plain": [
       "<keras.callbacks.History at 0x7fa0dc2ab1c0>"
      ]
     },
     "execution_count": 6,
     "metadata": {},
     "output_type": "execute_result"
    }
   ],
   "source": [
    "iters_per_epoch = 20\n",
    "num_loops = 1\n",
    "model.fit(\n",
    "    x                = datasets['train'], \n",
    "    steps_per_epoch  = datagens['train'].__len__()//iters_per_epoch, \n",
    "    epochs           = iters_per_epoch * num_loops, \n",
    "    batch_size       = hparams['batch_size'],\n",
    "    validation_data  = datasets['validate'], \n",
    "    validation_steps = datagens['validate'].__len__()//iters_per_epoch, \n",
    "    verbose   = True,\n",
    "    callbacks = [cp_early_stop, cp_checkpoint, cp_csv0]\n",
    ")"
   ]
  },
  {
   "cell_type": "code",
   "execution_count": 11,
   "metadata": {},
   "outputs": [
    {
     "name": "stdout",
     "output_type": "stream",
     "text": [
      "499 used time 0.030821561813354492s\r"
     ]
    }
   ],
   "source": [
    "from tqdm.auto import tqdm\n",
    "import time \n",
    "\n",
    "metrics_mae = []\n",
    "delay_true = []\n",
    "delay_pred = []\n",
    "cnt = 0\n",
    "for inp, lab in datagens['validate']:\n",
    "    t_start = time.time()\n",
    "    \n",
    "    delay_true.append(lab[model.train_on])\n",
    "    delay_pred.append(model(inp).numpy().squeeze())\n",
    "    \n",
    "    t_end = time.time()\n",
    "    cnt +=1\n",
    "    print(cnt, 'used time {}s'.format(t_end - t_start), end = '\\r')\n",
    "    \n",
    "delay_true = np.concatenate(delay_true)\n",
    "delay_pred = np.concatenate(delay_pred)\n",
    "metrics_mae = np.abs(delay_pred - delay_true)\n",
    "\n",
    "print(\"MAE = {:.2f} ({:.2f}), Err% = {:.2%} ({:.2%})\".format(\n",
    "    np.nanmean(metrics_mae), np.nanstd(metrics_mae),\n",
    "    np.nanmean(err[~np.isinf(err)]), np.nanstd(err[~np.isinf(err)]), \n",
    "))"
   ]
  },
  {
   "cell_type": "code",
   "execution_count": 22,
   "metadata": {},
   "outputs": [
    {
     "name": "stdout",
     "output_type": "stream",
     "text": [
      "MAE = 85.88 (89.47), Err% = 23.43% (28.08%)\n"
     ]
    }
   ],
   "source": []
  },
  {
   "cell_type": "code",
   "execution_count": 10,
   "metadata": {
    "scrolled": true
   },
   "outputs": [
    {
     "data": {
      "text/plain": [
       "(430.57068, 251.9588)"
      ]
     },
     "execution_count": 10,
     "metadata": {},
     "output_type": "execute_result"
    }
   ],
   "source": [
    "delay_true.mean(), delay_true.std()"
   ]
  },
  {
   "cell_type": "code",
   "execution_count": null,
   "metadata": {},
   "outputs": [],
   "source": [
    "delay_true, delay_pred\n",
    "# plt.plot(delay_pred[:200])"
   ]
  },
  {
   "cell_type": "code",
   "execution_count": null,
   "metadata": {},
   "outputs": [],
   "source": [
    "metrics_mae = np.abs(delay_pred - delay_true)\n",
    "\n",
    "(metrics_mae/delay_true).mean(), (metrics_mae/delay_true).std()"
   ]
  },
  {
   "cell_type": "code",
   "execution_count": 7,
   "metadata": {},
   "outputs": [
    {
     "data": {
      "image/png": "[encoded data removed]",
      "text/plain": [
       "<Figure size 640x480 with 1 Axes>"
      ]
     },
     "metadata": {},
     "output_type": "display_data"
    }
   ],
   "source": [
    "import matplotlib.pyplot as plt\n",
    "fig, ax = plt.subplots(1,1)\n",
    "pd.read_csv(csvlog_path)[['loss', 'val_loss']].plot(ax=ax)\n",
    "\n",
    "plt.legend()\n",
    "plt.ylabel('loss')\n",
    "plt.xlabel('epoch')\n",
    "\n",
    "from matplotlib import ticker\n",
    "formatter = ticker.ScalarFormatter(useMathText=True)\n",
    "formatter.set_scientific(True) \n",
    "formatter.set_powerlimits((-1,1)) \n",
    "ax.yaxis.set_major_formatter(formatter) "
   ]
  },
  {
   "cell_type": "code",
   "execution_count": null,
   "metadata": {},
   "outputs": [],
   "source": [
    "csvlog_path"
   ]
  },
  {
   "cell_type": "code",
   "execution_count": null,
   "metadata": {},
   "outputs": [],
   "source": [
    "# Test1\n",
    "model.evaluate(valid_data_generator)"
   ]
  },
  {
   "cell_type": "code",
   "execution_count": null,
   "metadata": {},
   "outputs": [],
   "source": [
    "# Tetst2\n",
    "r_.evaluate(test_data_generator)"
   ]
  },
  {
   "cell_type": "code",
   "execution_count": null,
   "metadata": {},
   "outputs": [],
   "source": []
  }
 ],
 "metadata": {
  "kernelspec": {
   "display_name": "Python 3 (ipykernel)",
   "language": "python",
   "name": "python3"
  },
  "language_info": {
   "codemirror_mode": {
    "name": "ipython",
    "version": 3
   },
   "file_extension": ".py",
   "mimetype": "text/x-python",
   "name": "python",
   "nbconvert_exporter": "python",
   "pygments_lexer": "ipython3",
   "version": "3.8.10"
  },
  "vscode": {
   "interpreter": {
    "hash": "916dbcbb3f70747c44a77c7bcd40155683ae19c65e1c03b4aa3499c5328201f1"
   }
  }
 },
 "nbformat": 4,
 "nbformat_minor": 2
}
