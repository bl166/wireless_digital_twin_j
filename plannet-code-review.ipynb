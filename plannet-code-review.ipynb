{
 "cells": [
  {
   "cell_type": "code",
   "execution_count": 35,
   "id": "7bcd4645",
   "metadata": {},
   "outputs": [
    {
     "name": "stdout",
     "output_type": "stream",
     "text": [
      "The autoreload extension is already loaded. To reload it, use:\n",
      "  %reload_ext autoreload\n",
      "/device:GPU:0\n"
     ]
    },
    {
     "name": "stderr",
     "output_type": "stream",
     "text": [
      "2022-12-27 03:53:41.441240: I tensorflow/core/common_runtime/gpu/gpu_device.cc:1613] Created device /device:GPU:0 with 9308 MB memory:  -> device: 0, name: NVIDIA GeForce RTX 2080 Ti, pci bus id: 0000:17:00.0, compute capability: 7.5\n",
      "2022-12-27 03:53:41.441639: I tensorflow/core/common_runtime/gpu/gpu_device.cc:1613] Created device /device:GPU:1 with 9305 MB memory:  -> device: 1, name: NVIDIA GeForce RTX 2080 Ti, pci bus id: 0000:65:00.0, compute capability: 7.5\n"
     ]
    }
   ],
   "source": [
    "%load_ext autoreload\n",
    "%autoreload 2\n",
    "\n",
    "import numpy as np\n",
    "import pandas as pd\n",
    "import matplotlib.pyplot as plt\n",
    "import networkx as nx\n",
    "\n",
    "import glob\n",
    "import re\n",
    "import os\n",
    "# os.environ[\"CUDA_VISIBLE_DEVICES\"] = \"-1\"\n",
    "# import sys\n",
    "# sys.path.append('/root/digital-twin/wireless_digital_twin/')\n",
    "\n",
    "import tensorflow as tf\n",
    "print(tf.test.gpu_device_name())\n",
    "\n",
    "\n",
    "import utils.utilfunc as uf\n",
    "from utils.models import PlanNet, RouteNet\n",
    "from utils.datagen_old import PlanDataGen, get_output_format\n",
    "import utils.datagen as dg"
   ]
  },
  {
   "cell_type": "markdown",
   "id": "69f23da2",
   "metadata": {},
   "source": [
    "# Topological feature and data\n",
    "\n",
    "More notes: https://docs.google.com/document/d/1Quh3fxewslm5BNcHFHodOhYpK0U519sxl_gL0zneZ-o/edit?usp=sharing\n",
    "\n",
    "More topologies & datasets: https://knowledgedefinednetworking.org"
   ]
  },
  {
   "cell_type": "code",
   "execution_count": 36,
   "id": "61fb2e74",
   "metadata": {},
   "outputs": [
    {
     "name": "stderr",
     "output_type": "stream",
     "text": [
      "<class 'networkx.utils.decorators.argmap'> compilation 9:4: FutureWarning: laplacian_matrix will return a scipy.sparse array instead of a matrix in Networkx 3.0.\n",
      "/root/digital-twin/wireless_digital_twin/utils/datagen.py:238: FutureWarning: adjacency_matrix will return a scipy.sparse array instead of a matrix in Networkx 3.0.\n",
      "  adjacency = nx.adjacency_matrix(self.graph_topology_undirected)\n"
     ]
    },
    {
     "ename": "ValueError",
     "evalue": "TypeError: sparse matrix length is ambiguous; use getnnz() or shape[0]\nTraceback (most recent call last):\n\n  File \"/usr/local/lib/python3.8/dist-packages/scipy/sparse/_base.py\", line 345, in __len__\n    raise TypeError(\"sparse matrix length is ambiguous; use getnnz()\"\n\nTypeError: sparse matrix length is ambiguous; use getnnz() or shape[0]\n\n",
     "output_type": "error",
     "traceback": [
      "\u001b[0;31m---------------------------------------------------------------------------\u001b[0m",
      "\u001b[0;31mValueError\u001b[0m                                Traceback (most recent call last)",
      "Cell \u001b[0;32mIn[36], line 7\u001b[0m\n\u001b[1;32m      4\u001b[0m config  \u001b[38;5;241m=\u001b[39m uf\u001b[38;5;241m.\u001b[39mPathConfigParser(\u001b[38;5;124m'\u001b[39m\u001b[38;5;124m./configs/c2.ini\u001b[39m\u001b[38;5;124m'\u001b[39m)\u001b[38;5;241m.\u001b[39mas_dict()\n\u001b[1;32m      5\u001b[0m hparams \u001b[38;5;241m=\u001b[39m \u001b[38;5;28mdict\u001b[39m(\u001b[38;5;241m*\u001b[39m\u001b[38;5;241m*\u001b[39mconfig[\u001b[38;5;124m'\u001b[39m\u001b[38;5;124mGNN\u001b[39m\u001b[38;5;124m'\u001b[39m], \u001b[38;5;241m*\u001b[39m\u001b[38;5;241m*\u001b[39mconfig[\u001b[38;5;124m'\u001b[39m\u001b[38;5;124mLearningParams\u001b[39m\u001b[38;5;124m'\u001b[39m])\n\u001b[0;32m----> 7\u001b[0m datagens, datasets \u001b[38;5;241m=\u001b[39m \u001b[43mdg\u001b[49m\u001b[38;5;241;43m.\u001b[39;49m\u001b[43mget_data_gens_sets\u001b[49m\u001b[43m(\u001b[49m\u001b[43mconfig\u001b[49m\u001b[43m)\u001b[49m\n\u001b[1;32m      8\u001b[0m config\n",
      "File \u001b[0;32m~/digital-twin/wireless_digital_twin/utils/datagen.py:105\u001b[0m, in \u001b[0;36mget_data_gens_sets\u001b[0;34m(config)\u001b[0m\n\u001b[1;32m    100\u001b[0m     datagens[p] \u001b[38;5;241m=\u001b[39m PlanDataGensMulti( filenames\u001b[38;5;241m=\u001b[39m(files_kips[p], files_traf[p]), \u001b[38;5;241m*\u001b[39m\u001b[38;5;241m*\u001b[39minput_argws_gen)\n\u001b[1;32m    102\u001b[0m \u001b[38;5;66;03m#DO *NOT* WRITE THE FOLLOWING IN A LOOP!! \u001b[39;00m\n\u001b[1;32m    103\u001b[0m \u001b[38;5;66;03m#i haven't figured out why but it will cause difference in validation.\u001b[39;00m\n\u001b[1;32m    104\u001b[0m \u001b[38;5;66;03m#might have something to do with whatever internal manipulation by tf.. weirdest thing i've ever seen @A@\u001b[39;00m\n\u001b[0;32m--> 105\u001b[0m input_argws_set \u001b[38;5;241m=\u001b[39m \u001b[38;5;28mdict\u001b[39m(\u001b[38;5;28mzip\u001b[39m([\u001b[38;5;124m'\u001b[39m\u001b[38;5;124moutput_types\u001b[39m\u001b[38;5;124m'\u001b[39m, \u001b[38;5;124m'\u001b[39m\u001b[38;5;124moutput_shapes\u001b[39m\u001b[38;5;124m'\u001b[39m], \u001b[43mget_output_format\u001b[49m\u001b[43m(\u001b[49m\u001b[43mdatagens\u001b[49m\u001b[43m[\u001b[49m\u001b[38;5;124;43m'\u001b[39;49m\u001b[38;5;124;43mtrain\u001b[39;49m\u001b[38;5;124;43m'\u001b[39;49m\u001b[43m]\u001b[49m\u001b[43m)\u001b[49m))\n\u001b[1;32m    106\u001b[0m datasets \u001b[38;5;241m=\u001b[39m {}\n\u001b[1;32m    107\u001b[0m datasets[\u001b[38;5;124m'\u001b[39m\u001b[38;5;124mtrain\u001b[39m\u001b[38;5;124m'\u001b[39m] \u001b[38;5;241m=\u001b[39m tf\u001b[38;5;241m.\u001b[39mdata\u001b[38;5;241m.\u001b[39mDataset\u001b[38;5;241m.\u001b[39mfrom_generator(\n\u001b[1;32m    108\u001b[0m     \u001b[38;5;28;01mlambda\u001b[39;00m: PlanDataGensMulti(filenames\u001b[38;5;241m=\u001b[39m(files_kips[\u001b[38;5;124m'\u001b[39m\u001b[38;5;124mtrain\u001b[39m\u001b[38;5;124m'\u001b[39m], files_traf[\u001b[38;5;124m'\u001b[39m\u001b[38;5;124mtrain\u001b[39m\u001b[38;5;124m'\u001b[39m]), \u001b[38;5;241m*\u001b[39m\u001b[38;5;241m*\u001b[39minput_argws_gen), \n\u001b[1;32m    109\u001b[0m     \u001b[38;5;241m*\u001b[39m\u001b[38;5;241m*\u001b[39minput_argws_set\n\u001b[1;32m    110\u001b[0m )\n",
      "File \u001b[0;32m~/digital-twin/wireless_digital_twin/utils/datagen.py:77\u001b[0m, in \u001b[0;36mget_data_gens_sets.<locals>.get_output_format\u001b[0;34m(dgen)\u001b[0m\n\u001b[1;32m     75\u001b[0m \u001b[38;5;28;01mdef\u001b[39;00m \u001b[38;5;21mget_output_format\u001b[39m(dgen):\n\u001b[1;32m     76\u001b[0m     output_types, output_shapes \u001b[38;5;241m=\u001b[39m [], []\n\u001b[0;32m---> 77\u001b[0m     \u001b[38;5;28;01mfor\u001b[39;00m d \u001b[38;5;129;01min\u001b[39;00m \u001b[43mdgen\u001b[49m\u001b[38;5;241;43m.\u001b[39;49m\u001b[38;5;21;43m__getitem__\u001b[39;49m\u001b[43m(\u001b[49m\u001b[38;5;241;43m0\u001b[39;49m\u001b[43m)\u001b[49m:\n\u001b[1;32m     78\u001b[0m         out_types, out_shapes \u001b[38;5;241m=\u001b[39m {}, {}\n\u001b[1;32m     79\u001b[0m         \u001b[38;5;28;01mfor\u001b[39;00m k, x \u001b[38;5;129;01min\u001b[39;00m d\u001b[38;5;241m.\u001b[39mitems():\n",
      "File \u001b[0;32m~/digital-twin/wireless_digital_twin/utils/datagen.py:406\u001b[0m, in \u001b[0;36mPlanDataGensMulti.__getitem__\u001b[0;34m(self, index)\u001b[0m\n\u001b[1;32m    403\u001b[0m \u001b[38;5;28mself\u001b[39m\u001b[38;5;241m.\u001b[39mkpiframe \u001b[38;5;241m=\u001b[39m \u001b[38;5;28mself\u001b[39m\u001b[38;5;241m.\u001b[39mkpiframeList[fi]\n\u001b[1;32m    405\u001b[0m \u001b[38;5;66;03m# Get topological features as dictionary.\u001b[39;00m\n\u001b[0;32m--> 406\u001b[0m features\u001b[38;5;241m=\u001b[39m\u001b[38;5;28;43mself\u001b[39;49m\u001b[38;5;241;43m.\u001b[39;49m\u001b[43mget_topological_features\u001b[49m\u001b[43m(\u001b[49m\u001b[43m)\u001b[49m\n\u001b[1;32m    408\u001b[0m \u001b[38;5;66;03m# Get values for specific data point \u001b[39;00m\n\u001b[1;32m    409\u001b[0m a \u001b[38;5;241m=\u001b[39m \u001b[38;5;28mself\u001b[39m\u001b[38;5;241m.\u001b[39mtriframe[index]\n",
      "File \u001b[0;32m~/digital-twin/wireless_digital_twin/utils/datagen.py:268\u001b[0m, in \u001b[0;36mPlanDataGen.get_topological_features\u001b[0;34m(self)\u001b[0m\n\u001b[1;32m    265\u001b[0m topological_features[\u001b[38;5;124m\"\u001b[39m\u001b[38;5;124msequences_nodes_paths\u001b[39m\u001b[38;5;124m\"\u001b[39m] \u001b[38;5;241m=\u001b[39m tf\u001b[38;5;241m.\u001b[39mVariable(tf\u001b[38;5;241m.\u001b[39mconstant(sequences_nodes_paths), name\u001b[38;5;241m=\u001b[39m\u001b[38;5;124m\"\u001b[39m\u001b[38;5;124msequences_nodes_paths\u001b[39m\u001b[38;5;124m\"\u001b[39m)\n\u001b[1;32m    267\u001b[0m \u001b[38;5;66;03m# General topological features, Laplacian matrix and degrees of all nodes.\u001b[39;00m\n\u001b[0;32m--> 268\u001b[0m topological_features[\u001b[38;5;124m\"\u001b[39m\u001b[38;5;124mlaplacian_matrix\u001b[39m\u001b[38;5;124m\"\u001b[39m] \u001b[38;5;241m=\u001b[39m tf\u001b[38;5;241m.\u001b[39mVariable(\u001b[43mtf\u001b[49m\u001b[38;5;241;43m.\u001b[39;49m\u001b[43mconstant\u001b[49m\u001b[43m(\u001b[49m\u001b[43mlaplacian\u001b[49m\u001b[43m,\u001b[49m\u001b[43m \u001b[49m\u001b[43mdtype\u001b[49m\u001b[38;5;241;43m=\u001b[39;49m\u001b[43mnp\u001b[49m\u001b[38;5;241;43m.\u001b[39;49m\u001b[43mfloat32\u001b[49m\u001b[43m)\u001b[49m, name\u001b[38;5;241m=\u001b[39m\u001b[38;5;124m\"\u001b[39m\u001b[38;5;124mlaplacian_matrix\u001b[39m\u001b[38;5;124m\"\u001b[39m)\n\u001b[1;32m    269\u001b[0m topological_features[\u001b[38;5;124m\"\u001b[39m\u001b[38;5;124madjacency_matrix\u001b[39m\u001b[38;5;124m\"\u001b[39m] \u001b[38;5;241m=\u001b[39m tf\u001b[38;5;241m.\u001b[39mVariable(tf\u001b[38;5;241m.\u001b[39mconstant(adjacency, dtype\u001b[38;5;241m=\u001b[39mnp\u001b[38;5;241m.\u001b[39mfloat32), name\u001b[38;5;241m=\u001b[39m\u001b[38;5;124m\"\u001b[39m\u001b[38;5;124madjacency_matrix\u001b[39m\u001b[38;5;124m\"\u001b[39m)\n\u001b[1;32m    270\u001b[0m topological_features[\u001b[38;5;124m\"\u001b[39m\u001b[38;5;124mnode_init\u001b[39m\u001b[38;5;124m\"\u001b[39m] \u001b[38;5;241m=\u001b[39m tf\u001b[38;5;241m.\u001b[39mVariable(tf\u001b[38;5;241m.\u001b[39mconstant(degrees,dtype\u001b[38;5;241m=\u001b[39mnp\u001b[38;5;241m.\u001b[39mfloat32), name\u001b[38;5;241m=\u001b[39m\u001b[38;5;124m\"\u001b[39m\u001b[38;5;124mnode_init\u001b[39m\u001b[38;5;124m\"\u001b[39m)\n",
      "File \u001b[0;32m/usr/local/lib/python3.8/dist-packages/tensorflow/python/framework/constant_op.py:267\u001b[0m, in \u001b[0;36mconstant\u001b[0;34m(value, dtype, shape, name)\u001b[0m\n\u001b[1;32m    170\u001b[0m \u001b[38;5;129m@tf_export\u001b[39m(\u001b[38;5;124m\"\u001b[39m\u001b[38;5;124mconstant\u001b[39m\u001b[38;5;124m\"\u001b[39m, v1\u001b[38;5;241m=\u001b[39m[])\n\u001b[1;32m    171\u001b[0m \u001b[38;5;28;01mdef\u001b[39;00m \u001b[38;5;21mconstant\u001b[39m(value, dtype\u001b[38;5;241m=\u001b[39m\u001b[38;5;28;01mNone\u001b[39;00m, shape\u001b[38;5;241m=\u001b[39m\u001b[38;5;28;01mNone\u001b[39;00m, name\u001b[38;5;241m=\u001b[39m\u001b[38;5;124m\"\u001b[39m\u001b[38;5;124mConst\u001b[39m\u001b[38;5;124m\"\u001b[39m):\n\u001b[1;32m    172\u001b[0m   \u001b[38;5;124;03m\"\"\"Creates a constant tensor from a tensor-like object.\u001b[39;00m\n\u001b[1;32m    173\u001b[0m \n\u001b[1;32m    174\u001b[0m \u001b[38;5;124;03m  Note: All eager `tf.Tensor` values are immutable (in contrast to\u001b[39;00m\n\u001b[0;32m   (...)\u001b[0m\n\u001b[1;32m    265\u001b[0m \u001b[38;5;124;03m    ValueError: if called on a symbolic tensor.\u001b[39;00m\n\u001b[1;32m    266\u001b[0m \u001b[38;5;124;03m  \"\"\"\u001b[39;00m\n\u001b[0;32m--> 267\u001b[0m   \u001b[38;5;28;01mreturn\u001b[39;00m \u001b[43m_constant_impl\u001b[49m\u001b[43m(\u001b[49m\u001b[43mvalue\u001b[49m\u001b[43m,\u001b[49m\u001b[43m \u001b[49m\u001b[43mdtype\u001b[49m\u001b[43m,\u001b[49m\u001b[43m \u001b[49m\u001b[43mshape\u001b[49m\u001b[43m,\u001b[49m\u001b[43m \u001b[49m\u001b[43mname\u001b[49m\u001b[43m,\u001b[49m\u001b[43m \u001b[49m\u001b[43mverify_shape\u001b[49m\u001b[38;5;241;43m=\u001b[39;49m\u001b[38;5;28;43;01mFalse\u001b[39;49;00m\u001b[43m,\u001b[49m\n\u001b[1;32m    268\u001b[0m \u001b[43m                        \u001b[49m\u001b[43mallow_broadcast\u001b[49m\u001b[38;5;241;43m=\u001b[39;49m\u001b[38;5;28;43;01mTrue\u001b[39;49;00m\u001b[43m)\u001b[49m\n",
      "File \u001b[0;32m/usr/local/lib/python3.8/dist-packages/tensorflow/python/framework/constant_op.py:279\u001b[0m, in \u001b[0;36m_constant_impl\u001b[0;34m(value, dtype, shape, name, verify_shape, allow_broadcast)\u001b[0m\n\u001b[1;32m    277\u001b[0m     \u001b[38;5;28;01mwith\u001b[39;00m trace\u001b[38;5;241m.\u001b[39mTrace(\u001b[38;5;124m\"\u001b[39m\u001b[38;5;124mtf.constant\u001b[39m\u001b[38;5;124m\"\u001b[39m):\n\u001b[1;32m    278\u001b[0m       \u001b[38;5;28;01mreturn\u001b[39;00m _constant_eager_impl(ctx, value, dtype, shape, verify_shape)\n\u001b[0;32m--> 279\u001b[0m   \u001b[38;5;28;01mreturn\u001b[39;00m \u001b[43m_constant_eager_impl\u001b[49m\u001b[43m(\u001b[49m\u001b[43mctx\u001b[49m\u001b[43m,\u001b[49m\u001b[43m \u001b[49m\u001b[43mvalue\u001b[49m\u001b[43m,\u001b[49m\u001b[43m \u001b[49m\u001b[43mdtype\u001b[49m\u001b[43m,\u001b[49m\u001b[43m \u001b[49m\u001b[43mshape\u001b[49m\u001b[43m,\u001b[49m\u001b[43m \u001b[49m\u001b[43mverify_shape\u001b[49m\u001b[43m)\u001b[49m\n\u001b[1;32m    281\u001b[0m g \u001b[38;5;241m=\u001b[39m ops\u001b[38;5;241m.\u001b[39mget_default_graph()\n\u001b[1;32m    282\u001b[0m tensor_value \u001b[38;5;241m=\u001b[39m attr_value_pb2\u001b[38;5;241m.\u001b[39mAttrValue()\n",
      "File \u001b[0;32m/usr/local/lib/python3.8/dist-packages/tensorflow/python/framework/constant_op.py:304\u001b[0m, in \u001b[0;36m_constant_eager_impl\u001b[0;34m(ctx, value, dtype, shape, verify_shape)\u001b[0m\n\u001b[1;32m    302\u001b[0m \u001b[38;5;28;01mdef\u001b[39;00m \u001b[38;5;21m_constant_eager_impl\u001b[39m(ctx, value, dtype, shape, verify_shape):\n\u001b[1;32m    303\u001b[0m   \u001b[38;5;124;03m\"\"\"Creates a constant on the current device.\"\"\"\u001b[39;00m\n\u001b[0;32m--> 304\u001b[0m   t \u001b[38;5;241m=\u001b[39m \u001b[43mconvert_to_eager_tensor\u001b[49m\u001b[43m(\u001b[49m\u001b[43mvalue\u001b[49m\u001b[43m,\u001b[49m\u001b[43m \u001b[49m\u001b[43mctx\u001b[49m\u001b[43m,\u001b[49m\u001b[43m \u001b[49m\u001b[43mdtype\u001b[49m\u001b[43m)\u001b[49m\n\u001b[1;32m    305\u001b[0m   \u001b[38;5;28;01mif\u001b[39;00m shape \u001b[38;5;129;01mis\u001b[39;00m \u001b[38;5;28;01mNone\u001b[39;00m:\n\u001b[1;32m    306\u001b[0m     \u001b[38;5;28;01mreturn\u001b[39;00m t\n",
      "File \u001b[0;32m/usr/local/lib/python3.8/dist-packages/tensorflow/python/framework/constant_op.py:102\u001b[0m, in \u001b[0;36mconvert_to_eager_tensor\u001b[0;34m(value, ctx, dtype)\u001b[0m\n\u001b[1;32m    100\u001b[0m     dtype \u001b[38;5;241m=\u001b[39m dtypes\u001b[38;5;241m.\u001b[39mas_dtype(dtype)\u001b[38;5;241m.\u001b[39mas_datatype_enum\n\u001b[1;32m    101\u001b[0m ctx\u001b[38;5;241m.\u001b[39mensure_initialized()\n\u001b[0;32m--> 102\u001b[0m \u001b[38;5;28;01mreturn\u001b[39;00m \u001b[43mops\u001b[49m\u001b[38;5;241;43m.\u001b[39;49m\u001b[43mEagerTensor\u001b[49m\u001b[43m(\u001b[49m\u001b[43mvalue\u001b[49m\u001b[43m,\u001b[49m\u001b[43m \u001b[49m\u001b[43mctx\u001b[49m\u001b[38;5;241;43m.\u001b[39;49m\u001b[43mdevice_name\u001b[49m\u001b[43m,\u001b[49m\u001b[43m \u001b[49m\u001b[43mdtype\u001b[49m\u001b[43m)\u001b[49m\n",
      "\u001b[0;31mValueError\u001b[0m: TypeError: sparse matrix length is ambiguous; use getnnz() or shape[0]\nTraceback (most recent call last):\n\n  File \"/usr/local/lib/python3.8/dist-packages/scipy/sparse/_base.py\", line 345, in __len__\n    raise TypeError(\"sparse matrix length is ambiguous; use getnnz()\"\n\nTypeError: sparse matrix length is ambiguous; use getnnz() or shape[0]\n\n"
     ]
    }
   ],
   "source": [
    "# abidata = '/root/digital-twin/digi_twin_summer_wireless_dataset-e3cce9c3860f1c1f3de8a0dcb5c744bb16ee4f34/data_split_clean'\n",
    "# abidata2 = '/root/digital-twin/digi_twin_summer_wireless_dataset-e3cce9c3860f1c1f3de8a0dcb5c744bb16ee4f34/dataset-2'\n",
    "\n",
    "config  = uf.PathConfigParser('./configs/c2.ini').as_dict()\n",
    "hparams = dict(**config['GNN'], **config['LearningParams'])\n",
    "\n",
    "datagens, datasets = dg.get_data_gens_sets(config)\n",
    "config\n",
    "\n"
   ]
  },
  {
   "cell_type": "code",
   "execution_count": 37,
   "id": "ed6945e1",
   "metadata": {
    "scrolled": false
   },
   "outputs": [
    {
     "name": "stderr",
     "output_type": "stream",
     "text": [
      "/tmp/ipykernel_74661/2901686274.py:6: DeprecationWarning: info is deprecated and will be removed in version 3.0.\n",
      "\n",
      "  nx.info(multiGraph)\n"
     ]
    }
   ],
   "source": [
    "from utils.datagen import getTopology, getDirectedTopology\n",
    "\n",
    "gfile = './dataset/nsfnet.txt'\n",
    "# gfile = '../GNNetworkingChallenge/data/full_data/gnnet_data_set_validation/graphs/graph-gbn-wfq-0.txt'\n",
    "multiGraph = nx.read_gml(gfile, destringizer=int)\n",
    "nx.info(multiGraph)\n",
    "\n",
    "# getTopology\n",
    "g_und=nx.Graph()\n",
    "for uu, vv, keys, weight in multiGraph.edges(data=\"bandwidth\", keys=True):\n",
    "    g_und.add_edge(uu, vv)\n",
    "    #print(uu, vv, keys, weight)\n",
    "\n",
    "# getDirectedTopology\n",
    "g_dir=nx.DiGraph()\n",
    "for uu, vv, keys, weight in multiGraph.edges(data=\"bandwidth\", keys=True):\n",
    "    g_dir.add_edge(uu, vv)"
   ]
  },
  {
   "cell_type": "code",
   "execution_count": 4,
   "id": "1ec0e2d2",
   "metadata": {},
   "outputs": [
    {
     "name": "stdout",
     "output_type": "stream",
     "text": [
      "dict_keys(['n_paths', 'n_links', 'n_nodes', 'n_total', 'paths_to_links', 'links_to_paths', 'sequences_paths_links', 'links_to_nodes', 'nodes_to_links', 'sequences_links_nodes', 'paths_to_nodes', 'nodes_to_paths', 'sequences_nodes_paths', 'laplacian_matrix', 'adjacency_matrix', 'node_init', 'path_init', 'link_init'])\n"
     ]
    },
    {
     "data": {
      "image/png": "[encoded data removed]",
      "text/plain": [
       "<Figure size 700x400 with 1 Axes>"
      ]
     },
     "metadata": {},
     "output_type": "display_data"
    }
   ],
   "source": [
    "G = g_dir\n",
    "pos = nx.nx_agraph.graphviz_layout(G, prog='fdp', root=0)\n",
    "# pos = nx.spring_layout(G)\n",
    "deg = nx.degree(G)\n",
    "\n",
    "# draw paths\n",
    "paths = datagens['train'].paths[[0, -1]]\n",
    "edges = []\n",
    "for r in paths:\n",
    "    route_edges = [(r[n],r[n+1]) for n in range(len(r)-1)]\n",
    "    edges.append(route_edges)\n",
    "colors = [[1,0,0,1], [0,0,1,1], [0,1,0,1], [0,1,1,1]]\n",
    "linews = [2.5]*len(paths)\n",
    "\n",
    "plt.figure(figsize=(7,4))\n",
    "\n",
    "x_ex = datagens['train'].__getitem__(0)[0]\n",
    "print(x_ex.keys())\n",
    "nx.draw(\n",
    "    G, pos, edge_color='black', width=1, linewidths=1,\n",
    "    node_size=[(deg[node]/2)*240 for node in G.nodes()], node_color='pink', alpha=0.9,\n",
    "    labels={node: node for node in G.nodes()}\n",
    ")\n",
    "nx.draw_networkx_edge_labels(\n",
    "    G, pos,\n",
    "    edge_labels=dict(zip(G.edges(), x_ex['link_init'].numpy())),\n",
    "    font_color='red'\n",
    ")\n",
    "for ctr, edgelist in enumerate(edges):\n",
    "    nx.draw_networkx_edges(\n",
    "        G, pos=pos,\n",
    "        edgelist=edgelist,\n",
    "        edge_color=colors[ctr], \n",
    "        width=linews[ctr]\n",
    "    )\n",
    "\n",
    "plt.axis('off')\n",
    "plt.show()\n"
   ]
  },
  {
   "cell_type": "code",
   "execution_count": 5,
   "id": "80e2047d",
   "metadata": {},
   "outputs": [
    {
     "name": "stdout",
     "output_type": "stream",
     "text": [
      "paths_to_links: 18 [0, 0, 1, 1, 1, 2, 2, 3, 4, 4, 5, 6, 6, 7, 8, 9, 9, 9]\n",
      "links_to_paths: 18 [0, 5, 5, 14, 34, 11, 18, 6, 25, 20, 38, 33, 36, 40, 28, 30, 16, 19]\n",
      "sequences_paths_links: 18 [0, 1, 0, 1, 2, 0, 1, 0, 0, 1, 0, 0, 1, 0, 0, 0, 1, 2]\n",
      "nodes_to_links: 42 [0, 1, 2, 3, 4, 5, 9, 10, 11, 6, 7, 8, 19, 20, 21, 15, 16, 17, 18, 25, 26, 12, 13, 14, 22, 23, 24, 36, 37, 38, 32, 33, 34, 35, 39, 40, 41, 27, 28, 29, 30, 31]\n",
      "sequences_links_nodes: 42 [0, 0, 0, 1, 1, 1, 2, 2, 2, 3, 3, 3, 4, 4, 4, 5, 5, 5, 5, 6, 6, 7, 7, 7, 8, 8, 8, 9, 9, 9, 10, 10, 10, 10, 11, 11, 11, 12, 12, 12, 13, 13]\n",
      "links_to_nodes: 42 [0, 0, 0, 1, 1, 1, 3, 3, 3, 2, 2, 2, 7, 7, 7, 5, 5, 5, 5, 4, 4, 4, 8, 8, 8, 6, 6, 12, 12, 12, 13, 13, 10, 10, 10, 10, 9, 9, 9, 11, 11, 11]\n",
      "nodes_to_paths: 18 [0, 1, 1, 7, 10, 2, 5, 3, 6, 4, 9, 10, 9, 11, 12, 13, 5, 4]\n",
      "paths_to_nodes: 18 [0, 0, 1, 1, 1, 2, 2, 3, 4, 4, 5, 6, 6, 7, 8, 9, 9, 9]\n",
      "sequences_nodes_paths: 18 [0, 1, 0, 1, 2, 0, 1, 0, 0, 1, 0, 0, 1, 0, 0, 0, 1, 2]\n",
      "degrees: [3, 3, 3, 3, 3, 4, 3, 3, 2, 3, 2, 4, 3, 3]\n"
     ]
    }
   ],
   "source": [
    "# # Gets all links and nodes as lists in the correct format. \n",
    "# links, nodes = self.get_links_nodes_arrays()\n",
    "nodes = sorted(list(G.nodes()))\n",
    "links = [list(elem) for elem in list(np.array(G.edges()))]\n",
    "paths = datagens['train'].paths\n",
    "\n",
    "\n",
    "# # Get Path-Link related features. \n",
    "# paths_to_links, links_to_paths, sequences_paths_links = self.get_path_link_features(links)\n",
    "sequences_paths_links = []\n",
    "paths_to_links = []\n",
    "links_to_paths = []\n",
    "for pi, elem in enumerate(paths): # for each path\n",
    "    num_nodes = len(list(elem))\n",
    "    for ni in range(len(elem)-1): # for each node in the path until the last but one\n",
    "        paths_to_links.append(pi)        # append path index\n",
    "        sequences_paths_links.append(ni) # append the index of node in the path \n",
    "        b = [elem[ni], elem[ni+1]]       # the link from src node to dst node\n",
    "        a = links.index(b)\n",
    "        links_to_paths.append(a)\n",
    "print('paths_to_links:', len(paths_to_links), paths_to_links)\n",
    "print('links_to_paths:', len(links_to_paths), links_to_paths)\n",
    "print('sequences_paths_links:', len(sequences_paths_links), sequences_paths_links) #18\n",
    "\n",
    "\n",
    "# # Get Node-Link related features \n",
    "# nodes_to_links, sequences_links_nodes, links_to_nodes = self.get_links_nodes(links, nodes)\n",
    "nodes_to_links = []\n",
    "sequences_links_nodes = []\n",
    "for count_link, elem in enumerate(nodes): # for each node\n",
    "    for i in range(len(links)): # for each link\n",
    "        if links[i][0] == elem:           # if this node is the source node of the link \n",
    "            nodes_to_links.append(i)                 # append link index\n",
    "            sequences_links_nodes.append(count_link) # append node count (same to node index)\n",
    "links_to_nodes = []\n",
    "for i in range(len(links)): # for each link\n",
    "    links_to_nodes.append(links[i][0]) # append the source node index\n",
    "print('nodes_to_links:', len(nodes_to_links), nodes_to_links)\n",
    "print('sequences_links_nodes:', len(sequences_links_nodes), sequences_links_nodes)\n",
    "print('links_to_nodes:', len(links_to_nodes), links_to_nodes) #42\n",
    "\n",
    "\n",
    "# # Path-Node\n",
    "# nodes_to_paths, paths_to_nodes, sequences_nodes_paths = self.get_paths_nodes()\n",
    "nodes_to_paths = [] \n",
    "paths_to_nodes = []\n",
    "sequences_nodes_paths = []\n",
    "for count_path, elem in enumerate(paths):  # for each path\n",
    "    count0 = -1\n",
    "    for i in range(len(elem)):  # for each node in the path\n",
    "        count0 += 1 #0\n",
    "        if i < (len(elem)-1):           # if not the last node\n",
    "            nodes_to_paths.append(elem[i])       # append node index\n",
    "            paths_to_nodes.append(count_path)    # append path index \n",
    "            sequences_nodes_paths.append(count0) # append the index of node in the path \n",
    "print('nodes_to_paths:', len(nodes_to_paths), nodes_to_paths)\n",
    "print('paths_to_nodes:', len(paths_to_nodes), paths_to_nodes)\n",
    "print('sequences_nodes_paths:', len(sequences_nodes_paths), sequences_nodes_paths) #18\n",
    "\n",
    "# # Degrees and Lalpacian Matrix.\n",
    "# degrees = [degree for _,degree in G.out_degree()]\n",
    "degrees = [degree for _,degree in G.out_degree()]\n",
    "print('degrees:', degrees)\n",
    "\n",
    "# # Get sparse Laplacian Matrix.\n",
    "# laplacian = nx.laplacian_matrix(self.graph_topology_undirected) \n",
    "# adjacency = nx.adjacency_matrix(self.graph_topology_undirected) \n",
    "\n",
    "# # Convert it to dense format.\n",
    "# laplacian = laplacian.todense()\n",
    "# adjacency = adjacency.todense()\n"
   ]
  },
  {
   "cell_type": "code",
   "execution_count": 6,
   "id": "cdc08f9b",
   "metadata": {},
   "outputs": [
    {
     "name": "stdout",
     "output_type": "stream",
     "text": [
      "[[0, 1, 7], [1, 7, 10, 11], [2, 5, 13], [3, 0], [6, 4, 5], [9, 12], [10, 9, 8], [11, 10], [12, 9], [13, 5, 4, 3]]\n"
     ]
    }
   ],
   "source": [
    "print([p for p in paths])"
   ]
  },
  {
   "cell_type": "markdown",
   "id": "afb0318a",
   "metadata": {},
   "source": [
    "# Model forward pass"
   ]
  },
  {
   "cell_type": "code",
   "execution_count": 25,
   "id": "d4f4a729",
   "metadata": {
    "scrolled": true
   },
   "outputs": [
    {
     "data": {
      "text/plain": [
       "{'n_paths': <tf.Variable 'n_paths:0' shape=() dtype=int32, numpy=10>,\n",
       " 'n_links': <tf.Variable 'n_links:0' shape=() dtype=int32, numpy=42>,\n",
       " 'n_nodes': <tf.Variable 'n_nodes:0' shape=() dtype=int32, numpy=14>,\n",
       " 'n_total': <tf.Variable 'n_total:0' shape=() dtype=int32, numpy=18>,\n",
       " 'paths_to_links': <tf.Variable 'paths_to_links:0' shape=(18,) dtype=int32, numpy=array([0, 0, 1, 1, 1, 2, 2, 3, 4, 4, 5, 6, 6, 7, 8, 9, 9, 9], dtype=int32)>,\n",
       " 'links_to_paths': <tf.Variable 'links_to_paths:0' shape=(18,) dtype=int32, numpy=\n",
       " array([ 0,  5,  5, 14, 34, 11, 18,  6, 25, 20, 38, 33, 36, 40, 28, 30, 16,\n",
       "        19], dtype=int32)>,\n",
       " 'sequences_paths_links': <tf.Variable 'sequences_paths_links:0' shape=(18,) dtype=int32, numpy=array([0, 1, 0, 1, 2, 0, 1, 0, 0, 1, 0, 0, 1, 0, 0, 0, 1, 2], dtype=int32)>,\n",
       " 'links_to_nodes': <tf.Variable 'links_to_nodes:0' shape=(42,) dtype=int32, numpy=\n",
       " array([ 0,  0,  0,  1,  1,  1,  3,  3,  3,  2,  2,  2,  7,  7,  7,  5,  5,\n",
       "         5,  5,  4,  4,  4,  8,  8,  8,  6,  6, 12, 12, 12, 13, 13, 10, 10,\n",
       "        10, 10,  9,  9,  9, 11, 11, 11], dtype=int32)>,\n",
       " 'nodes_to_links': <tf.Variable 'nodes_to_links:0' shape=(42,) dtype=int32, numpy=\n",
       " array([ 0,  1,  2,  3,  4,  5,  9, 10, 11,  6,  7,  8, 19, 20, 21, 15, 16,\n",
       "        17, 18, 25, 26, 12, 13, 14, 22, 23, 24, 36, 37, 38, 32, 33, 34, 35,\n",
       "        39, 40, 41, 27, 28, 29, 30, 31], dtype=int32)>,\n",
       " 'sequences_links_nodes': <tf.Variable 'sequences_links_nodes:0' shape=(42,) dtype=int32, numpy=\n",
       " array([ 0,  0,  0,  1,  1,  1,  2,  2,  2,  3,  3,  3,  4,  4,  4,  5,  5,\n",
       "         5,  5,  6,  6,  7,  7,  7,  8,  8,  8,  9,  9,  9, 10, 10, 10, 10,\n",
       "        11, 11, 11, 12, 12, 12, 13, 13], dtype=int32)>,\n",
       " 'paths_to_nodes': <tf.Variable 'paths_to_nodes:0' shape=(18,) dtype=int32, numpy=array([0, 0, 1, 1, 1, 2, 2, 3, 4, 4, 5, 6, 6, 7, 8, 9, 9, 9], dtype=int32)>,\n",
       " 'nodes_to_paths': <tf.Variable 'nodes_to_paths:0' shape=(18,) dtype=int32, numpy=\n",
       " array([ 0,  1,  1,  7, 10,  2,  5,  3,  6,  4,  9, 10,  9, 11, 12, 13,  5,\n",
       "         4], dtype=int32)>,\n",
       " 'sequences_nodes_paths': <tf.Variable 'sequences_nodes_paths:0' shape=(18,) dtype=int32, numpy=array([0, 1, 0, 1, 2, 0, 1, 0, 0, 1, 0, 0, 1, 0, 0, 0, 1, 2], dtype=int32)>,\n",
       " 'laplacian_matrix': <tf.Variable 'laplacian_matrix:0' shape=(14, 14) dtype=float32, numpy=\n",
       " array([[ 3., -1., -1., -1.,  0.,  0.,  0.,  0.,  0.,  0.,  0.,  0.,  0.,\n",
       "          0.],\n",
       "        [-1.,  3.,  0., -1., -1.,  0.,  0.,  0.,  0.,  0.,  0.,  0.,  0.,\n",
       "          0.],\n",
       "        [-1.,  0.,  3.,  0.,  0.,  0., -1., -1.,  0.,  0.,  0.,  0.,  0.,\n",
       "          0.],\n",
       "        [-1., -1.,  0.,  3.,  0., -1.,  0.,  0.,  0.,  0.,  0.,  0.,  0.,\n",
       "          0.],\n",
       "        [ 0., -1.,  0.,  0.,  3.,  0.,  0.,  0., -1.,  0.,  0., -1.,  0.,\n",
       "          0.],\n",
       "        [ 0.,  0.,  0., -1.,  0.,  4., -1.,  0.,  0., -1., -1.,  0.,  0.,\n",
       "          0.],\n",
       "        [ 0.,  0., -1.,  0.,  0., -1.,  3.,  0., -1.,  0.,  0.,  0.,  0.,\n",
       "          0.],\n",
       "        [ 0.,  0., -1.,  0.,  0.,  0.,  0.,  3.,  0.,  0.,  0.,  0., -1.,\n",
       "         -1.],\n",
       "        [ 0.,  0.,  0.,  0., -1.,  0., -1.,  0.,  2.,  0.,  0.,  0.,  0.,\n",
       "          0.],\n",
       "        [ 0.,  0.,  0.,  0.,  0., -1.,  0.,  0.,  0.,  3.,  0.,  0., -1.,\n",
       "         -1.],\n",
       "        [ 0.,  0.,  0.,  0.,  0., -1.,  0.,  0.,  0.,  0.,  2., -1.,  0.,\n",
       "          0.],\n",
       "        [ 0.,  0.,  0.,  0., -1.,  0.,  0.,  0.,  0.,  0., -1.,  4., -1.,\n",
       "         -1.],\n",
       "        [ 0.,  0.,  0.,  0.,  0.,  0.,  0., -1.,  0., -1.,  0., -1.,  3.,\n",
       "          0.],\n",
       "        [ 0.,  0.,  0.,  0.,  0.,  0.,  0., -1.,  0., -1.,  0., -1.,  0.,\n",
       "          3.]], dtype=float32)>,\n",
       " 'adjacency_matrix': <tf.Variable 'adjacency_matrix:0' shape=(14, 14) dtype=float32, numpy=\n",
       " array([[0., 1., 1., 1., 0., 0., 0., 0., 0., 0., 0., 0., 0., 0.],\n",
       "        [1., 0., 0., 1., 1., 0., 0., 0., 0., 0., 0., 0., 0., 0.],\n",
       "        [1., 0., 0., 0., 0., 0., 1., 1., 0., 0., 0., 0., 0., 0.],\n",
       "        [1., 1., 0., 0., 0., 1., 0., 0., 0., 0., 0., 0., 0., 0.],\n",
       "        [0., 1., 0., 0., 0., 0., 0., 0., 1., 0., 0., 1., 0., 0.],\n",
       "        [0., 0., 0., 1., 0., 0., 1., 0., 0., 1., 1., 0., 0., 0.],\n",
       "        [0., 0., 1., 0., 0., 1., 0., 0., 1., 0., 0., 0., 0., 0.],\n",
       "        [0., 0., 1., 0., 0., 0., 0., 0., 0., 0., 0., 0., 1., 1.],\n",
       "        [0., 0., 0., 0., 1., 0., 1., 0., 0., 0., 0., 0., 0., 0.],\n",
       "        [0., 0., 0., 0., 0., 1., 0., 0., 0., 0., 0., 0., 1., 1.],\n",
       "        [0., 0., 0., 0., 0., 1., 0., 0., 0., 0., 0., 1., 0., 0.],\n",
       "        [0., 0., 0., 0., 1., 0., 0., 0., 0., 0., 1., 0., 1., 1.],\n",
       "        [0., 0., 0., 0., 0., 0., 0., 1., 0., 1., 0., 1., 0., 0.],\n",
       "        [0., 0., 0., 0., 0., 0., 0., 1., 0., 1., 0., 1., 0., 0.]],\n",
       "       dtype=float32)>,\n",
       " 'node_init': <tf.Variable 'node_init:0' shape=(14,) dtype=float32, numpy=\n",
       " array([3., 3., 3., 3., 3., 4., 3., 3., 2., 3., 2., 4., 3., 3.],\n",
       "       dtype=float32)>,\n",
       " 'path_init': <tf.Variable 'path_init:0' shape=(2, 10) dtype=float32, numpy=\n",
       " array([[20., 10.,  1.,  1., 10.,  1.,  1., 20., 20.,  1.],\n",
       "        [ 1., 20.,  1.,  1., 20., 10.,  1., 10., 20.,  1.]], dtype=float32)>,\n",
       " 'link_init': <tf.Variable 'link_init:0' shape=(42,) dtype=float32, numpy=\n",
       " array([1., 1., 1., 1., 1., 1., 1., 1., 1., 1., 1., 1., 1., 1., 1., 1., 1.,\n",
       "        1., 1., 1., 1., 1., 1., 1., 1., 1., 1., 1., 1., 1., 1., 1., 1., 1.,\n",
       "        1., 1., 1., 1., 1., 1., 1., 1.], dtype=float32)>}"
      ]
     },
     "execution_count": 25,
     "metadata": {},
     "output_type": "execute_result"
    }
   ],
   "source": [
    "datagens['train'].__getitem__(0)[0]"
   ]
  },
  {
   "cell_type": "code",
   "execution_count": 64,
   "id": "7c685ed8",
   "metadata": {},
   "outputs": [
    {
     "name": "stdout",
     "output_type": "stream",
     "text": [
      "(42, 32)\n",
      "(42, 32)\n",
      "(42, 32)\n",
      "(42, 32)\n"
     ]
    },
    {
     "data": {
      "text/plain": [
       "<tf.Tensor: shape=(10, 1), dtype=float32, numpy=\n",
       "array([[0.82685673],\n",
       "       [0.68257487],\n",
       "       [0.87695014],\n",
       "       [1.0970073 ],\n",
       "       [0.7538131 ],\n",
       "       [0.8743453 ],\n",
       "       [0.598865  ],\n",
       "       [0.987635  ],\n",
       "       [1.3261666 ],\n",
       "       [0.71810055]], dtype=float32)>"
      ]
     },
     "execution_count": 64,
     "metadata": {},
     "output_type": "execute_result"
    }
   ],
   "source": [
    "from utils.models import PlanNet, RouteNet\n",
    "\n",
    "model = PlanNet(hparams, train_on = 'delay')\n",
    "# model = RouteNet(hparams, train_on = 'delay')\n",
    "\n",
    "model.build()\n",
    "opt = tf.keras.optimizers.Adam(learning_rate=hparams['learning_rate'])\n",
    "model.compile(optimizer=opt, run_eagerly=False)\n",
    "\n",
    "model(datagens['train'].__getitem__(0)[0])\n"
   ]
  },
  {
   "cell_type": "code",
   "execution_count": 60,
   "id": "05d7357e",
   "metadata": {},
   "outputs": [
    {
     "ename": "AttributeError",
     "evalue": "module 'tensorflow._api.v2.data' has no attribute 'make_initializable_iterator'",
     "output_type": "error",
     "traceback": [
      "\u001b[0;31m---------------------------------------------------------------------------\u001b[0m",
      "\u001b[0;31mAttributeError\u001b[0m                            Traceback (most recent call last)",
      "Cell \u001b[0;32mIn[60], line 2\u001b[0m\n\u001b[1;32m      1\u001b[0m ds \u001b[38;5;241m=\u001b[39m datasets[\u001b[38;5;124m'\u001b[39m\u001b[38;5;124mtrain\u001b[39m\u001b[38;5;124m'\u001b[39m]\u001b[38;5;241m.\u001b[39mbatch(\u001b[38;5;241m10\u001b[39m)\n\u001b[0;32m----> 2\u001b[0m iterator \u001b[38;5;241m=\u001b[39m \u001b[43mtf\u001b[49m\u001b[38;5;241;43m.\u001b[39;49m\u001b[43mdata\u001b[49m\u001b[38;5;241;43m.\u001b[39;49m\u001b[43mmake_initializable_iterator\u001b[49m(ds)\n\u001b[1;32m      3\u001b[0m batch_data \u001b[38;5;241m=\u001b[39m iterator\u001b[38;5;241m.\u001b[39mget_next()\n\u001b[1;32m      4\u001b[0m \u001b[38;5;28;01mwith\u001b[39;00m tf\u001b[38;5;241m.\u001b[39mSession() \u001b[38;5;28;01mas\u001b[39;00m sess:\n",
      "\u001b[0;31mAttributeError\u001b[0m: module 'tensorflow._api.v2.data' has no attribute 'make_initializable_iterator'"
     ]
    }
   ],
   "source": [
    "ds = datasets['train'].batch(10)\n",
    "iterator = tf.data.make_initializable_iterator(ds)\n",
    "batch_data = iterator.get_next()\n",
    "with tf.Session() as sess:\n",
    "    sess.run(iterator.initializer)\n",
    "    print(np.shape(sess.run(batch_data)[0])[0])\n",
    "    \n",
    "    \n",
    "\n",
    "# for element in datasets['train'].batch(10).get_single_element(): \n",
    "#     print(model(element[0]))\n",
    "#     break"
   ]
  },
  {
   "cell_type": "code",
   "execution_count": 65,
   "id": "e2be422c",
   "metadata": {
    "scrolled": true
   },
   "outputs": [
    {
     "ename": "AttributeError",
     "evalue": "'PlanDataGensMulti' object has no attribute 'batch'",
     "output_type": "error",
     "traceback": [
      "\u001b[0;31m---------------------------------------------------------------------------\u001b[0m",
      "\u001b[0;31mAttributeError\u001b[0m                            Traceback (most recent call last)",
      "Cell \u001b[0;32mIn[65], line 1\u001b[0m\n\u001b[0;32m----> 1\u001b[0m \u001b[43mdatagens\u001b[49m\u001b[43m[\u001b[49m\u001b[38;5;124;43m'\u001b[39;49m\u001b[38;5;124;43mtrain\u001b[39;49m\u001b[38;5;124;43m'\u001b[39;49m\u001b[43m]\u001b[49m\u001b[38;5;241;43m.\u001b[39;49m\u001b[43mbatch\u001b[49m(\u001b[38;5;241m10\u001b[39m)\n",
      "\u001b[0;31mAttributeError\u001b[0m: 'PlanDataGensMulti' object has no attribute 'batch'"
     ]
    }
   ],
   "source": [
    "datagens['train'].batch(10)"
   ]
  },
  {
   "cell_type": "code",
   "execution_count": null,
   "id": "8d320722",
   "metadata": {},
   "outputs": [],
   "source": []
  }
 ],
 "metadata": {
  "kernelspec": {
   "display_name": "Python 3 (ipykernel)",
   "language": "python",
   "name": "python3"
  },
  "language_info": {
   "codemirror_mode": {
    "name": "ipython",
    "version": 3
   },
   "file_extension": ".py",
   "mimetype": "text/x-python",
   "name": "python",
   "nbconvert_exporter": "python",
   "pygments_lexer": "ipython3",
   "version": "3.8.10"
  }
 },
 "nbformat": 4,
 "nbformat_minor": 5
}
