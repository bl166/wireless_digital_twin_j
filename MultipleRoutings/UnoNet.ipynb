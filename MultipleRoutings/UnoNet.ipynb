{
  "cells": [
    {
      "cell_type": "code",
      "execution_count": 15,
      "metadata": {
        "id": "oU4zulj5Js67"
      },
      "outputs": [],
      "source": [
        "import tensorflow as tf"
      ]
    },
    {
      "cell_type": "code",
      "execution_count": 14,
      "metadata": {
        "id": "HNnF2ULmJs6-"
      },
      "outputs": [],
      "source": [
        "import numpy as np\n",
        "import pandas as pd\n",
        "import glob"
      ]
    },
    {
      "cell_type": "code",
      "source": [
        "!unzip digi_twin_summer_wireless_dataset.zip"
      ],
      "metadata": {
        "id": "8B58w3e6Qorl"
      },
      "execution_count": 11,
      "outputs": []
    },
    {
      "cell_type": "code",
      "source": [],
      "metadata": {
        "id": "-yqzxewyQ0UK"
      },
      "execution_count": null,
      "outputs": []
    },
    {
      "cell_type": "markdown",
      "metadata": {
        "id": "A9R9hQMyJs6_"
      },
      "source": [
        "# Data"
      ]
    },
    {
      "cell_type": "code",
      "execution_count": 36,
      "metadata": {
        "id": "IHoGBUfBJs7B"
      },
      "outputs": [],
      "source": [
        "abidata = 'digi_twin_summer_wireless_dataset/GBN_routing_1'\n",
        "abidata2 = 'digi_twin_summer_wireless_dataset/NSFNet_routing_1'\n",
        "kpi_ = '/kpis.txt'\n",
        "tfc_ = '/traffic.txt'\n",
        "traincon = '/train'\n",
        "valcon = '/validate'\n",
        "testcon = '/test'"
      ]
    },
    {
      "cell_type": "code",
      "execution_count": 38,
      "metadata": {
        "id": "IjhNT7NwJs7B"
      },
      "outputs": [],
      "source": [
        "trainkpis = glob.glob(abidata+traincon+kpi_)\n",
        "trainkpis.sort()\n",
        "traintraffics = glob.glob(abidata+traincon+tfc_)\n",
        "traintraffics.sort()\n",
        "\n",
        "valkpis = glob.glob(abidata+valcon+kpi_)\n",
        "valkpis.sort()\n",
        "valtraffics = glob.glob(abidata+valcon+tfc_)\n",
        "valtraffics.sort()\n",
        "\n",
        "testkpis = glob.glob(abidata+testcon+kpi_)\n",
        "testkpis.sort()\n",
        "testtraffics = glob.glob(abidata+testcon+tfc_)\n",
        "testtraffics.sort()\n",
        "\n",
        "test2kpis = glob.glob(abidata2+testcon+kpi_)\n",
        "test2kpis.sort()\n",
        "test2traffics = glob.glob(abidata2+testcon+tfc_)\n",
        "test2traffics.sort()"
      ]
    },
    {
      "cell_type": "code",
      "source": [
        "\n",
        "print(traintraffics)\n",
        "abidata+traincon+kpi_"
      ],
      "metadata": {
        "colab": {
          "base_uri": "https://localhost:8080/",
          "height": 52
        },
        "id": "Q8H1FpiPRgO7",
        "outputId": "e6042455-2226-4573-94ae-b7238cc0e6ed"
      },
      "execution_count": 39,
      "outputs": [
        {
          "output_type": "stream",
          "name": "stdout",
          "text": [
            "['digi_twin_summer_wireless_dataset/GBN_routing_1/train/traffic.txt']\n"
          ]
        },
        {
          "output_type": "execute_result",
          "data": {
            "text/plain": [
              "'digi_twin_summer_wireless_dataset/GBN_routing_1/train/kpis.txt'"
            ],
            "application/vnd.google.colaboratory.intrinsic+json": {
              "type": "string"
            }
          },
          "metadata": {},
          "execution_count": 39
        }
      ]
    },
    {
      "cell_type": "code",
      "execution_count": 23,
      "metadata": {
        "id": "TbTmvxTpJs7C"
      },
      "outputs": [],
      "source": [
        "class UnoDataGen(tf.keras.utils.Sequence):\n",
        "    def __init__(self, filenames, hparams, topologies, paths):\n",
        "        self.hparams = hparams\n",
        "        \n",
        "        kpis, tris = filenames\n",
        "        \n",
        "        print(kpis)\n",
        "        kpiframe = pd.read_csv(kpis[0], header=None)\n",
        "        # for k in kpis[1:]:\n",
        "        #     kpiframe = pd.concat([kpiframe, pd.read_csv(k, header=None)])\n",
        "        self.kpiframe = kpiframe.reset_index(drop=True)\n",
        "\n",
        "        self.n = kpiframe.shape[0]\n",
        "        triframe = pd.read_csv(tris[0], header=None)\n",
        "        # for k in tris[1:]:\n",
        "        #     triframe = pd.concat([triframe, pd.read_csv(k, header=None)])\n",
        "        self.triframe = triframe.reset_index(drop=True)\n",
        "        self.topologies = topologies\n",
        "        self.paths = paths \n",
        "\n",
        "    def on_epoch_end(self):\n",
        "        pass\n",
        "    \n",
        "    def __getitem__(self, index=None):\n",
        "        \n",
        "        a = self.triframe.loc[index]\n",
        "        b = self.kpiframe.loc[index]\n",
        "        #links and paths\n",
        "        tfeatures = []\n",
        "        for i in range(len(self.topologies)):\n",
        "          tf.features.append(extract_topological_features(self.paths[i], self.topologies[i]))\n",
        "        # paths_nsfnet = np.array([[0,1,7], [1,7,10,11], [2,5,13], [3,0], [6,4,5], [9,12], [10,9,8], [11,10], [12,9], [13,5,4,3]])\n",
        "        # topological_features = extract_topological_features(paths_nsfnet, 'nsfnet.txt')\n",
        "        # f_n_paths = topological_features['n_paths'] \n",
        "        # f_n_links = topological_features['n_links'] \n",
        "        # f_n_nodes = topological_features['n_nodes'] \n",
        "        # f_paths_to_x = topological_features['paths_to_links'] \n",
        "        # f_links_to_paths = topological_features['links_to_paths'] \n",
        "        # f_sequences_paths_x =topological_features['sequences_paths_links']\n",
        "        # f_links_to_nodes = topological_features['links_to_nodes'] \n",
        "        # f_nodes_to_links = topological_features['nodes_to_links'] \n",
        "        # f_nodes_to_paths = topological_features['nodes_to_paths']\n",
        "        f_n_links = 42\n",
        "        f_n_nodes = 14\n",
        "        f_n_paths = 10\n",
        "\n",
        "        f_degrees = [1.0]*f_n_nodes\n",
        "        \n",
        "        f_capacities = [1.0]*f_n_links\n",
        "\n",
        "        traffic_in = [float(a[i]) for i in range(0, len(a), 2)]\n",
        "        traffic_ot = [float(a[i]) for i in range(1, len(a), 2)]\n",
        "        f_traffic = [traffic_in, traffic_ot]\n",
        "\n",
        "        f_links_to_paths = [0, 5, 5, 14, 34, 11, 18, 6, 25, 20, 38, 33, 36, 40, 28, 30, 16, 19]\n",
        "\n",
        "        f_link_state_dim = 32\n",
        "\n",
        "        f_nodes_to_paths = [0, 1, 1, 7, 10, 2, 5, 3, 6, 4, 9, 10, 9, 11, 12, 13, 5, 4]\n",
        "\n",
        "        f_node_state_dim = 32\n",
        "\n",
        "        f_links_to_nodes = [0, 0, 0, 1, 1, 1, 3, 3, 3, 2, 2, 2, 7, 7, 7, 5, 5, 5, 5, 4, 4, 4, 8, 8, 8, 6, 6, 12, 12, 12, 13, 13, 10, 10, 10, 10, 9, 9, 9, 11, 11, 11]\n",
        "        # len 42 ^\n",
        "        \n",
        "        f_nodes_to_links = [0, 1, 1, 2, 11, 3, 4, 5, 6, 7, 8, 9, 10, 11, 8, 4, 7, 12]\n",
        "\n",
        "        f_paths_to_x = [0, 0, 1, 1, 1, 2, 2, 3, 4, 4, 5, 6, 6, 7, 8, 9, 9, 9]\n",
        "        f_sequences_paths_x = [0, 1, 0, 1, 2, 0, 1, 0, 0, 1, 0, 0, 1, 0, 0, 0, 1, 2]\n",
        "\n",
        "        l_delay = [float(b[i]) for i in range(2, len(b), 3)]\n",
        "\n",
        "        # features = {\n",
        "        #     'n_nodes': tf.Variable(tf.constant(f_n_nodes)), #0\n",
        "        #     'n_links': tf.Variable(tf.constant(f_n_links)), #1\n",
        "        #     'n_paths': tf.Variable(tf.constant(f_n_paths)), #2\n",
        "        #     'node_init': tf.Variable(tf.constant(f_degrees)), #3\n",
        "        #     'link_init': tf.Variable(tf.constant(f_capacities)), #4\n",
        "        #     'path_init': tf.Variable(tf.constant(f_traffic)), #5\n",
        "        #     'nodes_to_paths': tf.Variable(tf.constant(f_nodes_to_paths)), #6\n",
        "        #     'links_to_paths': tf.Variable(tf.constant(f_links_to_paths)), #7\n",
        "        #     'links_to_nodes': tf.Variable(tf.constant(f_links_to_nodes)), #8\n",
        "        #     'paths_to_x': tf.Variable(tf.constant(f_paths_to_x)), #9\n",
        "        #     'sequences_paths_x': tf.Variable(tf.constant(f_sequences_paths_x)), #10\n",
        "        #     'node_lapacian': tf.Variable(tf.constant(lap, dtype=np.float32)) #11\n",
        "        # }\n",
        "        features = [\n",
        "            tf.Variable(tf.constant(f_degrees)), #0\n",
        "            tf.Variable(tf.constant(f_capacities)), #1\n",
        "            tf.Variable(tf.constant(f_traffic)), #2\n",
        "            tf.Variable(tf.constant(f_n_nodes)), #3\n",
        "            tf.Variable(tf.constant(f_n_links)), #4\n",
        "            tf.Variable(tf.constant(f_n_paths)), #5\n",
        "            tf.Variable(tf.constant(f_nodes_to_paths)), #6\n",
        "            tf.Variable(tf.constant(f_links_to_paths)), #7\n",
        "            tf.Variable(tf.constant(f_links_to_nodes)), #8\n",
        "            tf.Variable(tf.constant(f_paths_to_x)), #9\n",
        "            tf.Variable(tf.constant(f_sequences_paths_x)), #10\n",
        "            tf.Variable(tf.constant(f_nodes_to_links)), #11\n",
        "\n",
        "        ]\n",
        "\n",
        "        labels = [\n",
        "            tf.Variable(tf.constant(l_delay)), #0\n",
        "        ]\n",
        "\n",
        "        #return sample\n",
        "        return [features, labels]\n",
        "    \n",
        "    def __len__(self):\n",
        "        return self.n #// self.hparams['batch_size']"
      ]
    },
    {
      "cell_type": "code",
      "execution_count": 21,
      "metadata": {
        "id": "c0MW77z1Js7F"
      },
      "outputs": [],
      "source": [
        "hparams = {\n",
        "    'node_count':14,\n",
        "    'link_state_dim':32, \n",
        "    #[4, 8, 16, 32, 64]\n",
        "    'path_state_dim':32,\n",
        "    #[2, 4, 8, 16, 32, 64]\n",
        "    'node_state_dim':32,\n",
        "    #[2, 4, 8, 16, 32, 64]\n",
        "    'T':8,\n",
        "    'readout_units':8,\n",
        "    'learning_rate':0.001,\n",
        "    #[.001, .01, .05]\n",
        "    'batch_size':10,\n",
        "    #[8, 16, 32, 64]\n",
        "    'dropout_rate':0.5,\n",
        "    #[.5] leave\n",
        "    'l2':0.1,\n",
        "    #regulirization constants\n",
        "    #[.05, .1, .2]\n",
        "    'l2_2':0.01,\n",
        "    #[.005, .01, .02]\n",
        "    'learn_embedding':True, # If false, only the readout is trained\n",
        "    'readout_layers':2, # number of hidden layers in readout model\n",
        "    #[2, 3, 4]\n",
        "}"
      ]
    },
    {
      "cell_type": "code",
      "execution_count": 78,
      "metadata": {
        "colab": {
          "base_uri": "https://localhost:8080/",
          "height": 131
        },
        "id": "09OMDWugJs7G",
        "outputId": "565eaee2-8539-4814-e1b5-465afa7c2d05"
      },
      "outputs": [
        {
          "output_type": "error",
          "ename": "SyntaxError",
          "evalue": "ignored",
          "traceback": [
            "\u001b[0;36m  File \u001b[0;32m\"<ipython-input-78-c263099d10e3>\"\u001b[0;36m, line \u001b[0;32m1\u001b[0m\n\u001b[0;31m    traingen = UnoDataGen((trainkpis, traintraffics), hparams=hparams, topologies)\u001b[0m\n\u001b[0m                                                                      ^\u001b[0m\n\u001b[0;31mSyntaxError\u001b[0m\u001b[0;31m:\u001b[0m positional argument follows keyword argument\n"
          ]
        }
      ],
      "source": [
        "# the idea is to name .txt file and training the same, so that in dataset\n",
        "# generation I will just lookup for the name of topology inside the file path\n",
        "\n",
        "topologies = ['NSFnet_routing_1', \"GBN_routing_1\"]\n",
        "\n",
        "traingen = UnoDataGen((trainkpis, traintraffics), hparams=hparams, topologies, paths)\n",
        "\n",
        "valgen = UnoDataGen((valkpis, valtraffics), hparams=hparams)\n",
        "\n",
        "testgen = UnoDataGen((testkpis, testtraffics), hparams=hparams)\n",
        "\n",
        "# test2gen = UnoDataGen((test2kpis, test2traffics), hparams=hparams)"
      ]
    },
    {
      "cell_type": "code",
      "source": [
        "print(traingen.__getitem__(7)[1])"
      ],
      "metadata": {
        "colab": {
          "base_uri": "https://localhost:8080/"
        },
        "id": "wNAqqsxuSJy4",
        "outputId": "abd82aaf-10fc-4315-e06d-ae175a992b89"
      },
      "execution_count": 77,
      "outputs": [
        {
          "output_type": "stream",
          "name": "stdout",
          "text": [
            "[<tf.Variable 'Variable:0' shape=(13,) dtype=float32, numpy=\n",
            "array([ 1576.,   783., 13747.,    28.,   763.,  2925.,  6002.,    22.,\n",
            "         722.,    35., 11105.,    41.,   651.], dtype=float32)>]\n"
          ]
        },
        {
          "output_type": "stream",
          "name": "stderr",
          "text": [
            "/usr/local/lib/python3.7/dist-packages/ipykernel_launcher.py:27: VisibleDeprecationWarning: Creating an ndarray from ragged nested sequences (which is a list-or-tuple of lists-or-tuples-or ndarrays with different lengths or shapes) is deprecated. If you meant to do this, you must specify 'dtype=object' when creating the ndarray.\n"
          ]
        }
      ]
    },
    {
      "cell_type": "code",
      "source": [
        "print(traingen.__len__())"
      ],
      "metadata": {
        "colab": {
          "base_uri": "https://localhost:8080/"
        },
        "id": "PScsNzIpSKjT",
        "outputId": "fc034fdf-324c-4fa2-9253-d36fbc557896"
      },
      "execution_count": 67,
      "outputs": [
        {
          "output_type": "stream",
          "name": "stdout",
          "text": [
            "5330\n"
          ]
        }
      ]
    },
    {
      "cell_type": "code",
      "execution_count": null,
      "metadata": {
        "id": "RPdM2UpxJs7H"
      },
      "outputs": [],
      "source": [
        "class JoseNet1(tf.keras.Model):\n",
        "    def __init__(self,hparams, output_units=1, final_activation=None):\n",
        "        super(JoseNet1, self).__init__()\n",
        "\n",
        "        self.hparams = hparams\n",
        "        self.output_units = output_units\n",
        "        self.final_activation = final_activation\n",
        "        \n",
        "\n",
        "        \n",
        "    def build(self, input_shape=None):\n",
        "        del input_shape\n",
        "\n",
        "        #state updaters\n",
        "        self.edge_update = tf.keras.layers.GRUCell(hparams['link_state_dim'], name=\"edge_update\")\n",
        "        self.path_update = tf.keras.layers.GRUCell(hparams['path_state_dim'], name=\"path_update\")\n",
        "        self.node_update = tf.keras.layers.GRUCell(hparams['node_state_dim'], name=\"node_update\")\n",
        "\n",
        "        #readout-final\n",
        "        \n",
        "        self.readout = tf.keras.models.Sequential(name='readout')\n",
        "\n",
        "        for i in range(hparams['readout_layers']):\n",
        "            self.readout.add(tf.keras.layers.Dense(hparams['readout_units'], \n",
        "                    activation=tf.nn.selu,\n",
        "                    kernel_regularizer=tf.keras.regularizers.L2(hparams['l2'])))\n",
        "\n",
        "            self.readout.add(tf.keras.layers.Dropout(rate=hparams['dropout_rate']))\n",
        "\n",
        "        self.final = tf.keras.layers.Dense(self.output_units, \n",
        "                kernel_regularizer=tf.keras.regularizers.L2(hparams['l2_2']),\n",
        "                activation = self.final_activation )\n",
        "        \n",
        "        self.edge_update.build(tf.TensorShape([None,hparams['path_state_dim']+hparams['node_state_dim']]))\n",
        "        self.node_update.build(tf.TensorShape([None,hparams['path_state_dim']+hparams['link_state_dim']]))\n",
        "        self.path_update.build(tf.TensorShape([None,hparams['link_state_dim']+hparams['node_state_dim']]))\n",
        "        \n",
        "        self.readout.build(input_shape = [None,hparams['path_state_dim']])\n",
        "        self.final.build(input_shape = [None,hparams['path_state_dim'] + hparams['readout_units'] ])\n",
        "        self.built = True\n",
        "\n",
        "    def call(self, inputs, training=False):\n",
        "        #call == v ==\n",
        "        f_ = inputs\n",
        "\n",
        "        #state init\n",
        "        # shape = tf.stack([f_['n_links'],hparams['link_state_dim']-1], axis=0)\n",
        "        shape = tf.stack([f_[4],hparams['link_state_dim']-1], axis=0)\n",
        "        link_state = tf.concat([\n",
        "            # tf.expand_dims(f_['link_init'],axis=1),\n",
        "            tf.expand_dims(f_[1],axis=1),\n",
        "            tf.zeros(shape)\n",
        "        ], axis=1)\n",
        "\n",
        "        # shape = tf.stack([f_['n_nodes'],hparams['node_state_dim']-1], axis=0)\n",
        "        shape = tf.stack([f_[3],hparams['node_state_dim']-1], axis=0)\n",
        "        node_state = tf.concat([\n",
        "            # tf.expand_dims(f_['node_init'],axis=1),\n",
        "            tf.expand_dims(f_[0],axis=1),\n",
        "            tf.zeros(shape)\n",
        "        ], axis=1)\n",
        "\n",
        "        # shape = tf.stack([f_['n_paths'],hparams['path_state_dim']-1], axis=0)\n",
        "        shape = tf.stack([f_[5],hparams['path_state_dim']-2], axis=0)\n",
        "        path_state = tf.concat([\n",
        "            tf.expand_dims(f_[2][0],axis=1),\n",
        "            tf.expand_dims(f_[2][1],axis=1),\n",
        "            # tf.expand_dims(f_['path_init'],axis=1),\n",
        "            # tf.expand_dims(f_[5],axis=1),\n",
        "            tf.zeros(shape)\n",
        "        ], axis=1)\n",
        "\n",
        "        #pull for both\n",
        "        # paths = f_['paths_to_x']\n",
        "        paths = f_[9]\n",
        "        # seqs=  f_['sequences_paths_x']\n",
        "        seqs=  f_[10]\n",
        "        # n_paths = f_['n_paths']\n",
        "        n_paths = f_[5]\n",
        "        \n",
        "        for _ in range(hparams['T']):\n",
        "        #stuff for both\n",
        "            ids=tf.stack([paths, seqs], axis=1)\n",
        "            max_len = tf.reduce_max(seqs)+1\n",
        "            lens = tf.math.segment_sum(data=tf.ones_like(paths),\n",
        "                                    segment_ids=paths)\n",
        "\n",
        "            #link stuff\n",
        "            # h_ = tf.gather(link_state,f_['links_to_paths'])\n",
        "            h_ = tf.gather(link_state,f_[7])\n",
        "\n",
        "            shape = tf.stack([n_paths, max_len, hparams['link_state_dim']])\n",
        "            link_inputs = tf.scatter_nd(ids, h_, shape)\n",
        "            \n",
        "            #node stuff\n",
        "            # h_ = tf.gather(link_state,f_['nodes_to_paths'])\n",
        "            h_ = tf.gather(link_state,f_[6])\n",
        "\n",
        "            shape = tf.stack([n_paths, max_len, hparams['node_state_dim']])\n",
        "            node_inputs = tf.scatter_nd(ids, h_, shape)\n",
        "            \n",
        "            x_inputs = tf.concat([link_inputs, node_inputs], axis=2)\n",
        "            \n",
        "            #updating path_state\n",
        "            outputs, path_state = tf.compat.v1.nn.dynamic_rnn(cell = self.path_update,\n",
        "                                                inputs = x_inputs,\n",
        "                                                sequence_length = lens,\n",
        "                                                initial_state = path_state,\n",
        "                                                dtype=tf.float32)\n",
        "            \n",
        "            m0 = tf.gather_nd(outputs,ids)\n",
        "\n",
        "            #link update\n",
        "\n",
        "            #fitting nodes to links\n",
        "            # m = tf.math.unsorted_segment_sum(m, f_['links_to_paths'] ,f_['n_links'])\n",
        "            m = tf.math.unsorted_segment_sum(m0, f_[7] ,f_[4])\n",
        "            # h_ = tf.gather(node_state,f_['links_to_nodes'])\n",
        "            h_ = tf.gather(node_state, f_[8])\n",
        "            print(h_.shape)\n",
        "            print(m.shape)\n",
        "            _con = tf.concat([h_, m], axis=1)\n",
        "            \n",
        "            link_state,_ = self.edge_update(_con, [link_state])\n",
        "            \n",
        "            #node update\n",
        "\n",
        "            #fitting nodes to links\n",
        "            # m = tf.math.unsorted_segment_sum(m, f_['nodes_to_paths'] ,f_['n_nodes'])\n",
        "            m = tf.math.unsorted_segment_sum(m0, f_[6] ,f_[3])\n",
        "            # print(m)\n",
        "            # h_ = tf.gather(link_state,f_['nodes_to_links'])\n",
        "            h_ = tf.gather(link_state, f_[11])\n",
        "            print(h_.shape)\n",
        "            print(m.shape)\n",
        "            _con = tf.concat([h_, m], axis=1)\n",
        "            \n",
        "            node_state,_ = self.edge_update(_con, [node_state])\n",
        "\n",
        "        #readout\n",
        "                \n",
        "        if hparams['learn_embedding']:\n",
        "            r = self.readout(path_state,training=training)\n",
        "            o = self.final(tf.concat([r,path_state], axis=1))\n",
        "            \n",
        "        else:\n",
        "            r = self.readout(tf.stop_gradient(path_state),training=training)\n",
        "            o = self.final(tf.concat([r, tf.stop_gradient(path_state)], axis=1) )\n",
        "\n",
        "        return o\n",
        "\n",
        "    def train_step(self, data):\n",
        "        features, labels = data\n",
        "        \n",
        "        with tf.GradientTape() as tape:\n",
        "            predictions = self(features, training=True)\n",
        "            loc  = predictions[...,0]\n",
        "            delay_prediction = loc\n",
        "            loss = tf.keras.metrics.mean_squared_error(labels[0], loc)\n",
        "\n",
        "            regularization_loss = sum(self.losses)\n",
        "            total_loss = loss + regularization_loss\n",
        "            \n",
        "        gradients = tape.gradient(total_loss, self.trainable_variables)\n",
        "        \n",
        "        self.optimizer.apply_gradients(zip(gradients, self.trainable_variables))\n",
        "        ret = {\n",
        "            'loss':loss,\n",
        "            'label/mean/delay':tf.math.reduce_mean(labels[0]),\n",
        "            'prediction/mean/delay': tf.math.reduce_mean(delay_prediction)\n",
        "            }\n",
        "        return ret\n",
        "\n",
        "    def test_step(self, data):\n",
        "        features, labels = data\n",
        "        \n",
        "        with tf.GradientTape() as tape:\n",
        "            predictions = self(features, training=False)\n",
        "            loc  = predictions[...,0]\n",
        "            delay_prediction = loc\n",
        "            loss = tf.keras.metrics.mean_squared_error(labels[0], loc)\n",
        "\n",
        "            regularization_loss = sum(self.losses)\n",
        "            total_loss = loss + regularization_loss\n",
        "            \n",
        "        # gradients = tape.gradient(total_loss, self.trainable_variables)\n",
        "        \n",
        "        # self.optimizer.apply_gradients(zip(gradients, self.trainable_variables))\n",
        "        ret = {\n",
        "            'loss':loss,\n",
        "            'label/mean/delay':tf.math.reduce_mean(labels[0]),\n",
        "            'prediction/mean/delay': tf.math.reduce_mean(delay_prediction)\n",
        "            }\n",
        "        return ret"
      ]
    },
    {
      "cell_type": "code",
      "execution_count": 2,
      "metadata": {
        "colab": {
          "base_uri": "https://localhost:8080/",
          "height": 201
        },
        "id": "tS83RuUqJs7K",
        "outputId": "2ce59abf-d76b-4616-b5c4-929560697a09"
      },
      "outputs": [
        {
          "output_type": "error",
          "ename": "NameError",
          "evalue": "ignored",
          "traceback": [
            "\u001b[0;31m---------------------------------------------------------------------------\u001b[0m",
            "\u001b[0;31mNameError\u001b[0m                                 Traceback (most recent call last)",
            "\u001b[0;32m<ipython-input-2-5eef445a86cb>\u001b[0m in \u001b[0;36m<module>\u001b[0;34m\u001b[0m\n\u001b[0;32m----> 1\u001b[0;31m \u001b[0mr_\u001b[0m \u001b[0;34m=\u001b[0m \u001b[0mJoseNet1\u001b[0m\u001b[0;34m(\u001b[0m\u001b[0mhparams\u001b[0m\u001b[0;34m)\u001b[0m\u001b[0;34m\u001b[0m\u001b[0;34m\u001b[0m\u001b[0m\n\u001b[0m\u001b[1;32m      2\u001b[0m \u001b[0mr_\u001b[0m\u001b[0;34m.\u001b[0m\u001b[0mbuild\u001b[0m\u001b[0;34m(\u001b[0m\u001b[0;34m)\u001b[0m\u001b[0;34m\u001b[0m\u001b[0;34m\u001b[0m\u001b[0m\n\u001b[1;32m      3\u001b[0m \u001b[0mr_\u001b[0m\u001b[0;34m.\u001b[0m\u001b[0mcompile\u001b[0m\u001b[0;34m(\u001b[0m\u001b[0moptimizer\u001b[0m\u001b[0;34m=\u001b[0m\u001b[0;34m\"adam\"\u001b[0m\u001b[0;34m)\u001b[0m\u001b[0;34m\u001b[0m\u001b[0;34m\u001b[0m\u001b[0m\n",
            "\u001b[0;31mNameError\u001b[0m: name 'JoseNet1' is not defined"
          ]
        }
      ],
      "source": [
        "r_ = JoseNet1(hparams)\n",
        "r_.build()\n",
        "r_.compile(optimizer=\"adam\")"
      ]
    },
    {
      "cell_type": "code",
      "execution_count": 42,
      "metadata": {
        "colab": {
          "base_uri": "https://localhost:8080/",
          "height": 166
        },
        "id": "HXn-HeD3Js7K",
        "outputId": "6796bee9-a977-44a3-da14-730afd31d8ed"
      },
      "outputs": [
        {
          "output_type": "error",
          "ename": "NameError",
          "evalue": "ignored",
          "traceback": [
            "\u001b[0;31m---------------------------------------------------------------------------\u001b[0m",
            "\u001b[0;31mNameError\u001b[0m                                 Traceback (most recent call last)",
            "\u001b[0;32m<ipython-input-42-96affadce5a3>\u001b[0m in \u001b[0;36m<module>\u001b[0;34m\u001b[0m\n\u001b[0;32m----> 1\u001b[0;31m \u001b[0mr_\u001b[0m\u001b[0;34m(\u001b[0m\u001b[0mtraingen\u001b[0m\u001b[0;34m.\u001b[0m\u001b[0m__getitem__\u001b[0m\u001b[0;34m(\u001b[0m\u001b[0;36m0\u001b[0m\u001b[0;34m)\u001b[0m\u001b[0;34m[\u001b[0m\u001b[0;36m0\u001b[0m\u001b[0;34m]\u001b[0m\u001b[0;34m)\u001b[0m\u001b[0;34m\u001b[0m\u001b[0;34m\u001b[0m\u001b[0m\n\u001b[0m",
            "\u001b[0;31mNameError\u001b[0m: name 'r_' is not defined"
          ]
        }
      ],
      "source": [
        "r_(traingen.__getitem__(0)[0])"
      ]
    },
    {
      "cell_type": "code",
      "execution_count": 1,
      "metadata": {
        "colab": {
          "base_uri": "https://localhost:8080/"
        },
        "id": "ILUxTeUiJs7L",
        "outputId": "97b08b77-5158-476e-dfc3-cd91d96a0642"
      },
      "outputs": [
        {
          "output_type": "stream",
          "name": "stderr",
          "text": [
            "/usr/local/lib/python3.7/dist-packages/ipykernel_launcher.py:109: VisibleDeprecationWarning: Creating an ndarray from ragged nested sequences (which is a list-or-tuple of lists-or-tuples-or ndarrays with different lengths or shapes) is deprecated. If you meant to do this, you must specify 'dtype=object' when creating the ndarray.\n"
          ]
        }
      ],
      "source": [
        "import networkx as nx\n",
        "import os\n",
        "import pdb\n",
        "import numpy as np\n",
        "import networkx.algorithms.isomorphism as iso\n",
        "import matplotlib.pyplot as plt\n",
        "\n",
        "def compute_distance(x,y):\n",
        "    return np.sqrt(np.sum((x-y)**2))\n",
        "\n",
        "def getTopology(g):\n",
        "    g1=nx.Graph()\n",
        "    for uu, vv, keys, weight in g.edges(data=\"bandwidth\", keys=True):\n",
        "        g1.add_edge(uu,vv)\n",
        "    return g1\n",
        "\n",
        "def getDirectedTopology(g):\n",
        "    g1=nx.DiGraph()\n",
        "    for uu, vv, keys, weight in g.edges(data=\"bandwidth\", keys=True):\n",
        "        g1.add_edge(uu,vv)\n",
        "    return g1\n",
        "\n",
        "def extract_topological_features(paths, input_file):\n",
        "    multiGraph = nx.read_gml(input_file, destringizer=int)\n",
        "    graph_topology = getDirectedTopology(multiGraph)\n",
        "    \n",
        "    links1 = list(np.array(graph_topology.edges()))\n",
        "    links = []\n",
        "    for elem in links1:\n",
        "      links.append(list(elem))\n",
        "    \n",
        "    nodes = graph_topology.nodes()\n",
        "    nodes = list(nodes)\n",
        "    nodes.sort()\n",
        "\n",
        "    # Path-Link\n",
        "    sequences_paths_links = []\n",
        "    paths_to_links = []\n",
        "    links_to_paths = []\n",
        "    count = 0\n",
        "    for elem in paths:\n",
        "      for i in range(len(list(elem))):\n",
        "        if i != len(list(elem))-1:\n",
        "          paths_to_links.append(count)\n",
        "          sequences_paths_links.append(i)\n",
        "          b = [elem[i], elem[i+1]]\n",
        "          a = links.index(b)\n",
        "          links_to_paths.append(a)\n",
        "      count += 1\n",
        "\n",
        "    # Node-Link\n",
        "    nodes_to_links = []\n",
        "    sequences_links_nodes = []\n",
        "    count_link=0\n",
        "    for elem in nodes:\n",
        "      for i in range(len(links)):\n",
        "        if links[i][0] == elem:\n",
        "          nodes_to_links.append(i)\n",
        "          sequences_links_nodes.append(count_link)\n",
        "      count_link += 1\n",
        "\n",
        "    links_to_nodes = []\n",
        "    for i in range(len(links)):\n",
        "      links_to_nodes.append(links[i][0])\n",
        "\n",
        "    # Path-Node\n",
        "    path_to_nodes = []\n",
        "    for elem in paths:\n",
        "      for i in elem:\n",
        "        path_to_nodes.append(i)\n",
        "\n",
        "    nodes_to_paths = []\n",
        "    paths_to_nodes = []\n",
        "    sequences_nodes_paths = []\n",
        "    countP = 0\n",
        "    for elem in paths:\n",
        "      count0 = -1\n",
        "      for i in range(len(elem)):\n",
        "        count0 += 1\n",
        "        if i < (len(elem)-1):\n",
        "          nodes_to_paths.append(elem[i])\n",
        "          paths_to_nodes.append(countP)\n",
        "          sequences_nodes_paths.append(count0)\n",
        "      countP += 1\n",
        "\n",
        "    topological_features={}\n",
        "\n",
        "    topological_features['n_paths'] = len(paths)\n",
        "    topological_features['n_links'] = len(links)\n",
        "    topological_features['n_nodes'] = len(nodes)\n",
        "    topological_features['n_total'] = len(paths_to_links)\n",
        "    \n",
        "    topological_features['paths_to_links'] = paths_to_links\n",
        "    topological_features['links_to_paths'] = links_to_paths\n",
        "    topological_features['sequences_paths_links'] = sequences_paths_links\n",
        "\n",
        "    topological_features['links_to_nodes'] = links_to_nodes\n",
        "    topological_features['nodes_to_links'] = nodes_to_links\n",
        "    topological_features['sequences_links_nodes'] = sequences_links_nodes\n",
        "\n",
        "    topological_features['paths_to_nodes'] = paths_to_nodes\n",
        "    topological_features['nodes_to_paths']=nodes_to_paths\n",
        "    topological_features['sequences_nodes_paths'] = sequences_nodes_paths\n",
        "\n",
        "    return topological_features \n",
        "\n",
        "\n",
        "if __name__ == \"__main__\":\n",
        "    paths_nsfnet = np.array([[0,1,7], [1,7,10,11], [2,5,13], [3,0], [6,4,5], [9,12], [10,9,8], [11,10], [12,9], [13,5,4,3]])\n",
        "    # paths_gbn = np.array([[0,2,4,9,12,14,15], [2,0,8,5,6], [8,4,10,11,13], [14,12,9,3,1], [4,9,12], [16,12,9,4,8,5],\n",
        "                      # [15,14,12,10], [9,4,2], [11,10,4], [13,11,10,4,2,0]])\n",
        "    topological_features_nsfnet = extract_topological_features(paths_nsfnet, 'nsfnet.txt')\n",
        "    # topological_features_gbn = extract_topological_features(paths_gbn, 'nsfnet.txt')\n",
        "    #pdb.set_trace()"
      ]
    },
    {
      "cell_type": "code",
      "source": [
        "#topological_features_nsfnet['sequences_paths_links']\n",
        "#topological_features_nsfnet['sequences_nodes_paths']\n",
        "topological_features_nsfnet['sequences_links_nodes']"
      ],
      "metadata": {
        "colab": {
          "base_uri": "https://localhost:8080/"
        },
        "id": "4BLEMf0rN4co",
        "outputId": "9b9f66f3-79d4-4868-9299-4a8b1beb0a06"
      },
      "execution_count": 9,
      "outputs": [
        {
          "output_type": "execute_result",
          "data": {
            "text/plain": [
              "[0,\n",
              " 0,\n",
              " 0,\n",
              " 1,\n",
              " 1,\n",
              " 1,\n",
              " 2,\n",
              " 2,\n",
              " 2,\n",
              " 3,\n",
              " 3,\n",
              " 3,\n",
              " 4,\n",
              " 4,\n",
              " 4,\n",
              " 5,\n",
              " 5,\n",
              " 5,\n",
              " 5,\n",
              " 6,\n",
              " 6,\n",
              " 7,\n",
              " 7,\n",
              " 7,\n",
              " 8,\n",
              " 8,\n",
              " 8,\n",
              " 9,\n",
              " 9,\n",
              " 9,\n",
              " 10,\n",
              " 10,\n",
              " 10,\n",
              " 10,\n",
              " 11,\n",
              " 11,\n",
              " 11,\n",
              " 12,\n",
              " 12,\n",
              " 12,\n",
              " 13,\n",
              " 13]"
            ]
          },
          "metadata": {},
          "execution_count": 9
        }
      ]
    }
  ],
  "metadata": {
    "kernelspec": {
      "display_name": "Python 3.8.10 64-bit",
      "language": "python",
      "name": "python3"
    },
    "language_info": {
      "codemirror_mode": {
        "name": "ipython",
        "version": 3
      },
      "file_extension": ".py",
      "mimetype": "text/x-python",
      "name": "python",
      "nbconvert_exporter": "python",
      "pygments_lexer": "ipython3",
      "version": "3.8.10"
    },
    "orig_nbformat": 4,
    "vscode": {
      "interpreter": {
        "hash": "916dbcbb3f70747c44a77c7bcd40155683ae19c65e1c03b4aa3499c5328201f1"
      }
    },
    "colab": {
      "provenance": [],
      "collapsed_sections": []
    }
  },
  "nbformat": 4,
  "nbformat_minor": 0
}