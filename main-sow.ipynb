{
 "cells": [
  {
   "cell_type": "markdown",
   "metadata": {},
   "source": [
    "# imports"
   ]
  },
  {
   "cell_type": "code",
   "execution_count": 1,
   "metadata": {},
   "outputs": [
    {
     "name": "stderr",
     "output_type": "stream",
     "text": [
      "2023-12-13 04:46:45.108015: I tensorflow/core/util/port.cc:110] oneDNN custom operations are on. You may see slightly different numerical results due to floating-point round-off errors from different computation orders. To turn them off, set the environment variable `TF_ENABLE_ONEDNN_OPTS=0`.\n",
      "2023-12-13 04:46:45.170879: I tensorflow/core/platform/cpu_feature_guard.cc:182] This TensorFlow binary is optimized to use available CPU instructions in performance-critical operations.\n",
      "To enable the following instructions: AVX2 AVX512F AVX512_VNNI FMA, in other operations, rebuild TensorFlow with the appropriate compiler flags.\n",
      "2023-12-13 04:46:48.006858: W tensorflow/compiler/tf2tensorrt/utils/py_utils.cc:38] TF-TRT Warning: Could not find TensorRT\n"
     ]
    },
    {
     "name": "stdout",
     "output_type": "stream",
     "text": [
      "\n"
     ]
    },
    {
     "name": "stderr",
     "output_type": "stream",
     "text": [
      "2023-12-13 04:46:51.425625: E tensorflow/compiler/xla/stream_executor/cuda/cuda_driver.cc:268] failed call to cuInit: CUDA_ERROR_NO_DEVICE: no CUDA-capable device is detected\n",
      "2023-12-13 04:46:51.425701: I tensorflow/compiler/xla/stream_executor/cuda/cuda_diagnostics.cc:168] retrieving CUDA diagnostic information for host: lido\n",
      "2023-12-13 04:46:51.425711: I tensorflow/compiler/xla/stream_executor/cuda/cuda_diagnostics.cc:175] hostname: lido\n",
      "2023-12-13 04:46:51.425866: I tensorflow/compiler/xla/stream_executor/cuda/cuda_diagnostics.cc:199] libcuda reported version is: 470.199.2\n",
      "2023-12-13 04:46:51.425899: I tensorflow/compiler/xla/stream_executor/cuda/cuda_diagnostics.cc:203] kernel reported version is: 470.199.2\n",
      "2023-12-13 04:46:51.425907: I tensorflow/compiler/xla/stream_executor/cuda/cuda_diagnostics.cc:309] kernel version seems to match DSO: 470.199.2\n"
     ]
    }
   ],
   "source": [
    "%load_ext autoreload\n",
    "%autoreload 2\n",
    "\n",
    "import numpy as np\n",
    "import pandas as pd\n",
    "import matplotlib.pyplot as plt\n",
    "colors = plt.rcParams[\"axes.prop_cycle\"].by_key()[\"color\"]\n",
    "\n",
    "import pickle\n",
    "import shutil\n",
    "import time \n",
    "import glob\n",
    "import re\n",
    "import os\n",
    "os.environ[\"CUDA_VISIBLE_DEVICES\"] = \"-1\"\n",
    "import sys\n",
    "sys.path.append('./utils/')\n",
    "\n",
    "import tensorflow as tf\n",
    "print(tf.test.gpu_device_name())\n",
    "\n",
    "import utils.utilfunc as uf\n",
    "import utils.datagen as dg\n",
    "from utils.models import PlanNet, RouteNet\n",
    "# from utils.evaluate import eval_all_models_under\n",
    "\n",
    "\n",
    "def plot_val_mae_and_loss(val_mae, val_loss, ax=None):\n",
    "    if ax is None:\n",
    "        fig, ax = plt.subplots(1,1)\n",
    "    ax2 = ax.twinx()\n",
    "    c0, c1 = 'tab:blue', 'tab:red'\n",
    "    ax.plot(\n",
    "        val_mae, ls='-', lw=1, color=c0, marker='.', label=None\n",
    "    )\n",
    "    ax2.plot(\n",
    "        val_loss, ls='-', lw=1, color=c1, marker='.', label=None\n",
    "    )\n",
    "\n",
    "    ax.set_ylabel('val_mae', color=c0) \n",
    "    ax.tick_params(axis='y', labelcolor=c0)\n",
    "    ax2.set_ylabel('val_loss', color=c1) \n",
    "    ax2.tick_params(axis='y', labelcolor=c1)\n",
    "    ax.set_xlabel('epoch')\n",
    "    if ax is None:\n",
    "        plt.show()\n"
   ]
  },
  {
   "cell_type": "markdown",
   "metadata": {},
   "source": [
    "## RouteNet"
   ]
  },
  {
   "cell_type": "code",
   "execution_count": 23,
   "metadata": {},
   "outputs": [
    {
     "name": "stdout",
     "output_type": "stream",
     "text": [
      "CUDA_VISIBLE_DEVICES=-1 python train_univ_emb_batchcpu.py --resume -ep 100 -es 100 --suffix FromScratch -c ./configs_univ/wifigridpert-delay-jitter-throughput-drops-labnorm-arch2.ini -m RouteNetEmb -f 1;\\\n",
      "CUDA_VISIBLE_DEVICES=-1 python train_univ_emb_batchcpu.py --resume -ep 100 -es 100 --suffix FromScratch -c ./configs_univ/wifigridpert-delay-jitter-throughput-drops-labnorm-arch2.ini -m RouteNetEmb -f 2;\\\n",
      "CUDA_VISIBLE_DEVICES=-1 python train_univ_emb_batchcpu.py --resume -ep 100 -es 100 --suffix FromScratch -c ./configs_univ/wifigridpert-delay-jitter-throughput-drops-labnorm-arch2.ini -m RouteNetEmb -f 3;\\\n",
      "CUDA_VISIBLE_DEVICES=-1 python train_univ_emb_batchcpu.py --resume -ep 100 -es 100 --suffix FromScratch -c ./configs_univ/wifigridpert-delay-jitter-throughput-drops-labnorm-arch2.ini -m RouteNetEmb -f 4;\n"
     ]
    }
   ],
   "source": [
    "\n",
    "#PlanNetEmbGCNBatch PlanNetEmbECCBatch\n",
    "tr_model = \"RouteNetEmb\" \n",
    "tr_conf = \"./configs_univ/wifigridpert-delay-jitter-throughput-drops-labnorm-arch2.ini\" #wifigrid wifigridpert nsf\n",
    "\"\"\"\n",
    "nsf-delay-jitter-throughput-drops.ini\n",
    "\n",
    "nsf-delay-jitter-throughput.ini\n",
    "nsf-delay-jitter-drops.ini\n",
    "nsf-delay-throughput-drops.ini\n",
    "nsf-jitter-throughput-drops.ini\n",
    "\n",
    "nsf-delay.ini\n",
    "nsf-jitter.ini\n",
    "nsf-throughput.ini\n",
    "nsf-drops.ini\n",
    "\"\"\"\n",
    "\n",
    "tr_conf_dict = uf.PathConfigParser(tr_conf).as_dict()\n",
    "tr_label = \"+\".join(tr_conf_dict['Paths']['trainon'])\n",
    "tr_dataset = os.path.basename(tr_conf_dict['Paths']['data'][0])\n",
    "tr_logpath = tr_conf_dict['Paths']['logs'][0]\n",
    "tr_learnrate = tr_conf_dict['LearningParams']['learning_rate']\n",
    "tr_suffix = 'FromScratch'\n",
    "\n",
    "cvfs = 4\n",
    "mainfile = 'train_univ_emb_batchcpu.py'  #train_univ_emb_batchcpu train_univ_emb\n",
    "\n",
    "train_commands = [\n",
    "    f\"CUDA_VISIBLE_DEVICES=-1 python {mainfile} --resume -ep 100 -es 100 --suffix {tr_suffix} -c {tr_conf} -m {tr_model} -f {f};\" \\\n",
    "    for f in range(1,cvfs+1)\n",
    "]\n",
    "\n",
    "evalu_commands = [\n",
    "    f\"python utils/evaluate.py --cdir {tr_logpath}/cv{f}/{tr_model}/TRG+{tr_label}_DS+{tr_dataset}_LR{tr_learnrate:.2e}_{tr_suffix};\"\\\n",
    "    for f in range(1,cvfs+1)\n",
    "]\n",
    "\n",
    "print('\\\\\\n'.join(['\\n'.join(\n",
    "    [\n",
    "        tc, \n",
    "        #ec\n",
    "    ]) for tc, ec in zip(train_commands, evalu_commands)]))\n",
    "# print(\"\\\\\\n\". join(evalu_commands))\n"
   ]
  },
  {
   "cell_type": "markdown",
   "metadata": {},
   "source": [
    "## PLAN-Net"
   ]
  },
  {
   "cell_type": "code",
   "execution_count": 33,
   "metadata": {
    "scrolled": false
   },
   "outputs": [
    {
     "name": "stdout",
     "output_type": "stream",
     "text": [
      "CUDA_VISIBLE_DEVICES=-1 python train_univ_emb_batchcpu.py --loss mse --resume -ep 100 -es 100 --suffix FromScratch_3ecc_LN -c ./configs_univ/wifigridflow-delay-jitter-throughput-drops-labnorm-arch2.ini -m PlanNetEmbGCNBatch -f 1;\n",
      "CUDA_VISIBLE_DEVICES=-1 python train_univ_emb_batchcpu.py --loss mse --resume -ep 100 -es 100 --suffix FromScratch_3ecc_LN -c ./configs_univ/wifigridflow-delay-jitter-throughput-drops-labnorm-arch2.ini -m PlanNetEmbGCNBatch -f 2;\n",
      "CUDA_VISIBLE_DEVICES=-1 python train_univ_emb_batchcpu.py --loss mse --resume -ep 100 -es 100 --suffix FromScratch_3ecc_LN -c ./configs_univ/wifigridflow-delay-jitter-throughput-drops-labnorm-arch2.ini -m PlanNetEmbGCNBatch -f 3;\n",
      "CUDA_VISIBLE_DEVICES=-1 python train_univ_emb_batchcpu.py --loss mse --resume -ep 100 -es 100 --suffix FromScratch_3ecc_LN -c ./configs_univ/wifigridflow-delay-jitter-throughput-drops-labnorm-arch2.ini -m PlanNetEmbGCNBatch -f 4;\n"
     ]
    }
   ],
   "source": [
    "\n",
    "#PlanNetEmbGCNBatch PlanNetEmbECCBatch\n",
    "tr_model = \"PlanNetEmbGCNBatch\" \n",
    "tr_conf = \"./configs_univ/wifigridflow-delay-jitter-throughput-drops-labnorm-arch2.ini\" #wifigrid wifigridpert nsf\n",
    "\"\"\"\n",
    "nsf-delay-jitter-throughput-drops.ini\n",
    "\n",
    "nsf-delay-jitter-throughput.ini\n",
    "nsf-delay-jitter-drops.ini\n",
    "nsf-delay-throughput-drops.ini\n",
    "nsf-jitter-throughput-drops.ini\n",
    "\n",
    "nsf-delay.ini\n",
    "nsf-jitter.ini\n",
    "nsf-throughput.ini\n",
    "nsf-drops.ini\n",
    "\"\"\"\n",
    "\n",
    "tr_conf_dict = uf.PathConfigParser(tr_conf).as_dict()\n",
    "tr_label = \"+\".join(tr_conf_dict['Paths']['trainon'])\n",
    "tr_dataset = os.path.basename(tr_conf_dict['Paths']['data'][0])\n",
    "tr_logpath = tr_conf_dict['Paths']['logs'][0]\n",
    "tr_learnrate = tr_conf_dict['LearningParams']['learning_rate']\n",
    "tr_suffix = 'FromScratch_3ecc_LN'\n",
    "tr_lossfunc = 'mse'#'logcosh' #\n",
    "\n",
    "cvfs = 4\n",
    "mainfile = 'train_univ_emb_batchcpu.py'  #train_univ_emb_batchcpu train_univ_emb\n",
    "\n",
    "train_commands = [\n",
    "    f\"CUDA_VISIBLE_DEVICES=-1 python {mainfile} --loss {tr_lossfunc} --resume -ep 100 -es 100 --suffix {tr_suffix} -c {tr_conf} -m {tr_model} -f {f};\" \\\n",
    "    for f in range(1,cvfs+1)\n",
    "]\n",
    "\n",
    "evalu_commands = [\n",
    "    f\"python utils/evaluate.py --cdir {tr_logpath}/cv{f}/{tr_model}/TRG+{tr_label}_DS+{tr_dataset}_LR{tr_learnrate:.2e}_{tr_suffix};\"\\\n",
    "    for f in range(1,cvfs+1)\n",
    "]\n",
    "\n",
    "print('\\n'.join(['\\n'.join(\n",
    "    [\n",
    "        tc, \n",
    "        #ec\n",
    "    ]) for tc, ec in zip(train_commands, evalu_commands)]))\n",
    "# print(\"\\\\\\n\". join(evalu_commands))\n"
   ]
  },
  {
   "cell_type": "code",
   "execution_count": null,
   "metadata": {},
   "outputs": [],
   "source": [
    "CUDA_VISIBLE_DEVICES=-1 python train_univ_emb_batchcpu.py --loss mse --resume -ep 100 -es 100 --suffix FromScratch -c ./output_univ/cv1/PlanNetEmbGCNBatch/TRG+delay+jitter+throughput+drops_DS+WifiGridR1S2St180Dr50Le2F4_LR5.00e-04_BS10_LF+mse_FromScratch/wifigrid-delay-jitter-throughput-drops-labnorm-arch2.ini  -m PlanNetEmbGCNBatch -f 1"
   ]
  },
  {
   "cell_type": "code",
   "execution_count": 176,
   "metadata": {},
   "outputs": [
    {
     "data": {
      "text/plain": [
       "['jitter', 'throughput', 'drops']"
      ]
     },
     "execution_count": 176,
     "metadata": {},
     "output_type": "execute_result"
    }
   ],
   "source": [
    "tr_conf_dict['Paths']['trainon']"
   ]
  },
  {
   "cell_type": "markdown",
   "metadata": {},
   "source": [
    "## retrain"
   ]
  },
  {
   "cell_type": "code",
   "execution_count": 30,
   "metadata": {
    "scrolled": false
   },
   "outputs": [
    {
     "name": "stdout",
     "output_type": "stream",
     "text": [
      "CUDA_VISIBLE_DEVICES=-1 python train_univ_emb_batchcpu.py  --freeze --resume --loadweights ./output_univ//cv1/PlanNetEmbGCNBatch/TRG+jitter+throughput+drops_DS+WifiGridR1S2St180Dr50Le2F4_LR5.00e-04_BN10_FromScratch_3ecc_LN/cp-0037.ckpt --suffix RetrainFromJitterThroughputDrops_3ecc_LN -c ./configs_univ/wifigrid-delay-labnorm-arch2.ini -m PlanNetEmbGCNBatch -f 1; \\\n",
      "CUDA_VISIBLE_DEVICES=-1 python train_univ_emb_batchcpu.py  --freeze --resume --loadweights ./output_univ//cv2/PlanNetEmbGCNBatch/TRG+jitter+throughput+drops_DS+WifiGridR1S2St180Dr50Le2F4_LR5.00e-04_BN10_FromScratch_3ecc_LN/cp-0054.ckpt --suffix RetrainFromJitterThroughputDrops_3ecc_LN -c ./configs_univ/wifigrid-delay-labnorm-arch2.ini -m PlanNetEmbGCNBatch -f 2; \\\n",
      "CUDA_VISIBLE_DEVICES=-1 python train_univ_emb_batchcpu.py  --freeze --resume --loadweights ./output_univ//cv3/PlanNetEmbGCNBatch/TRG+jitter+throughput+drops_DS+WifiGridR1S2St180Dr50Le2F4_LR5.00e-04_BN10_FromScratch_3ecc_LN/cp-0080.ckpt --suffix RetrainFromJitterThroughputDrops_3ecc_LN -c ./configs_univ/wifigrid-delay-labnorm-arch2.ini -m PlanNetEmbGCNBatch -f 3; \\\n",
      "CUDA_VISIBLE_DEVICES=-1 python train_univ_emb_batchcpu.py  --freeze --resume --loadweights ./output_univ//cv4/PlanNetEmbGCNBatch/TRG+jitter+throughput+drops_DS+WifiGridR1S2St180Dr50Le2F4_LR5.00e-04_BN10_FromScratch_3ecc_LN/cp-0057.ckpt --suffix RetrainFromJitterThroughputDrops_3ecc_LN -c ./configs_univ/wifigrid-delay-labnorm-arch2.ini -m PlanNetEmbGCNBatch -f 4; \n"
     ]
    }
   ],
   "source": [
    "import warnings\n",
    "\n",
    "#TRG+jitter+throughput+drops_DS+WifiGridR1S2St180Dr50Le2F4_LR5.00e-04_BN10_FromScratch_3ecc_LN\n",
    "tr_model = \"PlanNetEmbGCNBatch\"\n",
    "tr_conf = \"./configs_univ/wifigrid-jitter-throughput-drops-labnorm-arch2.ini\" # load weight from\n",
    "retr_conf = \"./configs_univ/wifigrid-delay-labnorm-arch2.ini\"  # save results to\n",
    "\n",
    "# original\n",
    "tr_conf_dict = uf.PathConfigParser(tr_conf).as_dict()\n",
    "tr_label = \"+\".join(tr_conf_dict['Paths']['trainon'])\n",
    "tr_dataset = os.path.basename(tr_conf_dict['Paths']['data'][0])\n",
    "tr_logpath = tr_conf_dict['Paths']['logs'][0]\n",
    "tr_learnrate = tr_conf_dict['LearningParams']['learning_rate']\n",
    "tr_bsize = '_BN'+str(tr_conf_dict['LearningParams']['batch_size']) \\\n",
    "    if 'batching' in tr_conf_dict['LearningParams'] and tr_conf_dict['LearningParams']['batching']\\\n",
    "    else ''\n",
    "tr_suffix = 'FromScratch_3ecc_LN'\n",
    "fn_weights = f\"{tr_model}/TRG+{tr_label}_DS+{tr_dataset}_LR{tr_learnrate:.2e}{tr_bsize}_{tr_suffix}\"\n",
    "\n",
    "# retrain\n",
    "retr_conf_dict = uf.PathConfigParser(retr_conf).as_dict()\n",
    "retr_label = \"+\".join(retr_conf_dict['Paths']['trainon'])\n",
    "retr_dataset = os.path.basename(retr_conf_dict['Paths']['data'][0])\n",
    "retr_logpath = retr_conf_dict['Paths']['logs'][0]\n",
    "retr_learnrate = retr_conf_dict['LearningParams']['learning_rate']\n",
    "retr_bsize = '_BN'+str(retr_conf_dict['LearningParams']['batch_size']) \\\n",
    "    if 'batching' in retr_conf_dict['LearningParams'] and retr_conf_dict['LearningParams']['batching']\\\n",
    "    else ''\n",
    "retr_suffix = 'RetrainFrom'+''.join([s.title() for s in tr_label.split('+')])+'_3ecc_LN'\n",
    "fn_output = f\"{tr_model}/TRG+{retr_label}_DS+{retr_dataset}_LR{retr_learnrate:.2e}{tr_bsize}_{retr_suffix}\"\n",
    "\n",
    "##\n",
    "c_prefix = \"CUDA_VISIBLE_DEVICES=-1 python train_univ_emb_batchcpu.py \"\n",
    "train_commands = []\n",
    "for f in range(1,5):\n",
    "    checkpoint_dir = f\"{tr_logpath}/cv{f}/{fn_weights}\"\n",
    "    \n",
    "    new_vers = False #legacy\n",
    "    idx = (0, 1)\n",
    "    if not os.path.exists(\n",
    "        pkl_best := os.path.join(checkpoint_dir ,'mae_best_vals.pkl')\n",
    "    ):\n",
    "        if not os.path.exists(\n",
    "            pkl_best := os.path.join(checkpoint_dir ,'mae_best_vals_multi.pkl')\n",
    "        ):\n",
    "            pkl_best = os.path.join(checkpoint_dir ,'training.log')\n",
    "            new_vers = True\n",
    "        idx = ('val_mae','val_loss')\n",
    "    else:\n",
    "        idx = (0, 1)\n",
    "\n",
    "    if not new_vers:\n",
    "        with open(pkl_best, 'rb') as h:\n",
    "            models_perf_reload = pickle.load(h)    \n",
    "\n",
    "        model_best = min(\n",
    "            models_perf_reload, \n",
    "            key=lambda key: models_perf_reload[key][idx[0]] \\\n",
    "                if models_perf_reload[key] and key in models_perf_reload else float('inf')\n",
    "        )\n",
    "    else:\n",
    "        dd_log = pd.read_csv(pkl_best)\n",
    "        #fix some bugs\n",
    "        elist = dd_log.epoch.tolist()\n",
    "        i1 = [(len(elist) - elist[::-1].index(i) -1) for i in set(elist)] ##last appeareance of unique ep\n",
    "        if len(i1) != len(elist):\n",
    "            warnings.warn('repeated epoch numbers!')\n",
    "        dd_log = dd_log.iloc[i1].reset_index(drop=True)\n",
    "        i0 = len(dd_log) - dd_log.epoch.tolist()[::-1].index(0) -1 #last appeareance of 0\n",
    "        if i0 != 0:\n",
    "            warnings.warn('restarted epoch numbers!')\n",
    "        dd_log = dd_log.iloc[i0:].reset_index(drop=True)\n",
    "        model_best = f'cp-{dd_log[idx[0]].argmin():04d}.ckpt'\n",
    "    \n",
    "    fn_weights_n = fn_weights+'/'+model_best\n",
    "    train_commands.append(\n",
    "        c_prefix + f\" --freeze --resume --loadweights {tr_logpath}/cv{f}/{fn_weights_n} --suffix {retr_suffix} -c {retr_conf} -m {tr_model} -f {f};\" \\\n",
    "    )\n",
    "\n",
    "evalu_commands = [\n",
    "    \" \"#f\"python utils/evaluate.py --cdir {tr_logpath}/cv{f}/{fn_output};\"\\\n",
    "    for f in range(1,5)\n",
    "]\n",
    "\n",
    "print('\\\\\\n'.join([''.join([tc, ec]) for tc, ec in zip(train_commands, evalu_commands)]))\n",
    "# print(\"\\\\\\n\". join(evalu_commands))\n"
   ]
  },
  {
   "cell_type": "code",
   "execution_count": 147,
   "metadata": {},
   "outputs": [
    {
     "data": {
      "text/plain": [
       "{'cp-0001.ckpt': {'val_loss': 0.7776424170020121,\n",
       "  'val_mae': 0.9720503194950956,\n",
       "  'val_reg_loss': 0.005399857968151929,\n",
       "  'val_loss/jitter': 0.4321712440168354,\n",
       "  'val_mae/jitter': 0.40763885682257606,\n",
       "  'val_label/mean/jitter': 1.7450509944432218,\n",
       "  'val_prediction/mean/jitter': 1.6000291298572686,\n",
       "  'val_loss/throughput': 0.07799784854144398,\n",
       "  'val_mae/throughput': 0.20735443238041532,\n",
       "  'val_label/mean/throughput': 0.8715876803791499,\n",
       "  'val_prediction/mean/throughput': 0.8512011399451396,\n",
       "  'val_loss/drops': 0.2674730634785274,\n",
       "  'val_mae/drops': 0.35705686143226545,\n",
       "  'val_label/mean/drops': 0.7236476721658074,\n",
       "  'val_prediction/mean/drops': 0.8019540583343813},\n",
       " 'cp-best-loss.ckpt': {'val_loss': 0.7776424170020121,\n",
       "  'val_mae': 0.9720503194950956,\n",
       "  'val_reg_loss': 0.005399857968151929,\n",
       "  'val_loss/jitter': 0.4321712440168354,\n",
       "  'val_mae/jitter': 0.40763885682257606,\n",
       "  'val_label/mean/jitter': 1.7450509944432218,\n",
       "  'val_prediction/mean/jitter': 1.6000291298572686,\n",
       "  'val_loss/throughput': 0.07799784854144398,\n",
       "  'val_mae/throughput': 0.20735443238041532,\n",
       "  'val_label/mean/throughput': 0.8715876803791499,\n",
       "  'val_prediction/mean/throughput': 0.8512011399451396,\n",
       "  'val_loss/drops': 0.2674730634785274,\n",
       "  'val_mae/drops': 0.35705686143226545,\n",
       "  'val_label/mean/drops': 0.7236476721658074,\n",
       "  'val_prediction/mean/drops': 0.8019540583343813},\n",
       " 'cp-best-mae.ckpt': {'val_loss': 0.7776424170020121,\n",
       "  'val_mae': 0.9720503194950956,\n",
       "  'val_reg_loss': 0.005399857968151929,\n",
       "  'val_loss/jitter': 0.4321712440168354,\n",
       "  'val_mae/jitter': 0.40763885682257606,\n",
       "  'val_label/mean/jitter': 1.7450509944432218,\n",
       "  'val_prediction/mean/jitter': 1.6000291298572686,\n",
       "  'val_loss/throughput': 0.07799784854144398,\n",
       "  'val_mae/throughput': 0.20735443238041532,\n",
       "  'val_label/mean/throughput': 0.8715876803791499,\n",
       "  'val_prediction/mean/throughput': 0.8512011399451396,\n",
       "  'val_loss/drops': 0.2674730634785274,\n",
       "  'val_mae/drops': 0.35705686143226545,\n",
       "  'val_label/mean/drops': 0.7236476721658074,\n",
       "  'val_prediction/mean/drops': 0.8019540583343813}}"
      ]
     },
     "execution_count": 147,
     "metadata": {},
     "output_type": "execute_result"
    }
   ],
   "source": [
    "models_perf_reload"
   ]
  },
  {
   "cell_type": "code",
   "execution_count": null,
   "metadata": {},
   "outputs": [],
   "source": []
  }
 ],
 "metadata": {
  "kernelspec": {
   "display_name": "Python 3 (ipykernel)",
   "language": "python",
   "name": "python3"
  },
  "language_info": {
   "codemirror_mode": {
    "name": "ipython",
    "version": 3
   },
   "file_extension": ".py",
   "mimetype": "text/x-python",
   "name": "python",
   "nbconvert_exporter": "python",
   "pygments_lexer": "ipython3",
   "version": "3.8.10"
  },
  "vscode": {
   "interpreter": {
    "hash": "916dbcbb3f70747c44a77c7bcd40155683ae19c65e1c03b4aa3499c5328201f1"
   }
  }
 },
 "nbformat": 4,
 "nbformat_minor": 2
}
